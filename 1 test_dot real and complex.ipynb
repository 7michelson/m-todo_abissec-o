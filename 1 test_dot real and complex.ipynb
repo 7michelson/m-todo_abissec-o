{
 "cells": [
  {
   "cell_type": "markdown",
   "id": "d013c881",
   "metadata": {},
   "source": [
    "## Testando dot_real"
   ]
  },
  {
   "cell_type": "code",
   "execution_count": 1,
   "id": "96ec3d37",
   "metadata": {},
   "outputs": [],
   "source": [
    "import bruno as br\n",
    "import numpy as np\n",
    "import pytest"
   ]
  },
  {
   "cell_type": "code",
   "execution_count": 2,
   "id": "5c99141f",
   "metadata": {},
   "outputs": [
    {
     "name": "stdout",
     "output_type": "stream",
     "text": [
      "Erro esperado detectado: x deve ser 1D com ndim = 1: uma dimensão [1, 2, 3]..\n"
     ]
    }
   ],
   "source": [
    "def test_dot_real_not_1D_arrays():\n",
    "    x = np.array([[1.0, 2.0], [3.0, 4.0]])  # Array 2D\n",
    "    y = np.array([4.0, 5.0])\n",
    "    \n",
    "    try:\n",
    "        br.dot_real(x, y)\n",
    "    except AssertionError as e:\n",
    "        print(\"Erro esperado detectado:\", e)\n",
    "\n",
    "test_dot_real_not_1D_arrays()\n"
   ]
  },
  {
   "cell_type": "code",
   "execution_count": 3,
   "id": "f277e65f",
   "metadata": {},
   "outputs": [
    {
     "name": "stdout",
     "output_type": "stream",
     "text": [
      "Erro esperado detectado: Numero de elementos em x é diferente de numero de elementos em y\n"
     ]
    }
   ],
   "source": [
    "def test_dot_real_different_sizes():\n",
    "    x = np.array([1.0, 2.0])\n",
    "    y = np.array([4.0, 5.0, 6.0])\n",
    "    \n",
    "    try:\n",
    "        br.dot_real(x, y)\n",
    "    except AssertionError as e:\n",
    "        print(\"Erro esperado detectado:\", e)\n",
    "\n",
    "test_dot_real_different_sizes()\n"
   ]
  },
  {
   "cell_type": "code",
   "execution_count": 4,
   "id": "0efff9f3",
   "metadata": {},
   "outputs": [
    {
     "name": "stdout",
     "output_type": "stream",
     "text": [
      "Resultado esperado (32): 32.0\n"
     ]
    }
   ],
   "source": [
    "def test_dot_real_known_values():\n",
    "    x = np.array([1.0, 2.0, 3.0])\n",
    "    y = np.array([4.0, 5.0, 6.0])\n",
    "    \n",
    "    resultado = br.dot_real(x, y)\n",
    "    print(\"Resultado esperado (32):\", resultado)\n",
    "\n",
    "test_dot_real_known_values()\n"
   ]
  },
  {
   "cell_type": "code",
   "execution_count": 5,
   "id": "9cb0268d",
   "metadata": {},
   "outputs": [
    {
     "name": "stdout",
     "output_type": "stream",
     "text": [
      "Comparação com numpy.dot: True\n"
     ]
    }
   ],
   "source": [
    "def test_dot_real_compare_numpy_dot():\n",
    "    x = np.array([1.0, 2.0, 3.0])\n",
    "    y = np.array([4.0, 5.0, 6.0])\n",
    "    \n",
    "    resultado_custom = br.dot_real(x, y)\n",
    "    resultado_numpy = np.dot(x, y)\n",
    "    \n",
    "    print(\"Comparação com numpy.dot:\", resultado_custom == resultado_numpy)\n",
    "\n",
    "test_dot_real_compare_numpy_dot()\n"
   ]
  },
  {
   "cell_type": "code",
   "execution_count": 6,
   "id": "f89795b1",
   "metadata": {},
   "outputs": [
    {
     "name": "stdout",
     "output_type": "stream",
     "text": [
      "Testando comutatividade (x·y == y·x): True\n"
     ]
    }
   ],
   "source": [
    "def test_dot_real_commutativity():\n",
    "    x = np.array([1.0, 2.0, 3.0])\n",
    "    y = np.array([4.0, 5.0, 6.0])\n",
    "    \n",
    "    resultado_xy = br.dot_real(x, y)\n",
    "    resultado_yx = br.dot_real(y, x)\n",
    "    \n",
    "    print(\"Testando comutatividade (x·y == y·x):\", resultado_xy == resultado_yx)\n",
    "\n",
    "test_dot_real_commutativity()\n"
   ]
  },
  {
   "cell_type": "code",
   "execution_count": 7,
   "id": "08083acd",
   "metadata": {},
   "outputs": [
    {
     "name": "stdout",
     "output_type": "stream",
     "text": [
      "Testando distributividade: True\n"
     ]
    }
   ],
   "source": [
    "def test_dot_real_distributivity():\n",
    "    x = np.array([1.0, 2.0, 3.0])\n",
    "    y = np.array([4.0, 5.0, 6.0])\n",
    "    z = np.array([7.0, 8.0, 9.0])\n",
    "    \n",
    "    resultado_distributivo = br.dot_real(x, y + z)\n",
    "    resultado_separado = br.dot_real(x, y) + br.dot_real(x, z)\n",
    "    \n",
    "    print(\"Testando distributividade:\", resultado_distributivo == resultado_separado)\n",
    "\n",
    "test_dot_real_distributivity()\n"
   ]
  },
  {
   "cell_type": "code",
   "execution_count": 8,
   "id": "fadfc6fe",
   "metadata": {},
   "outputs": [
    {
     "name": "stdout",
     "output_type": "stream",
     "text": [
      "Testando multiplicação escalar: True\n"
     ]
    }
   ],
   "source": [
    "def test_dot_real_scalar_multiplication():\n",
    "    x = np.array([1.0, 2.0, 3.0])\n",
    "    y = np.array([4.0, 5.0, 6.0])\n",
    "    escalar = 3\n",
    "    \n",
    "    resultado_escalar = br.dot_real(br.scalar_vec_real(escalar, x), y)\n",
    "    resultado_multiplicado = escalar * br.dot_real(x, y)\n",
    "    \n",
    "    print(\"Testando multiplicação escalar:\", resultado_escalar == resultado_multiplicado)\n",
    "\n",
    "test_dot_real_scalar_multiplication()\n"
   ]
  },
  {
   "cell_type": "markdown",
   "id": "a078f9ef",
   "metadata": {},
   "source": [
    "###### na minha função construi para ele n calcular vetores do tipo complexa vai gerar o seguinte erro"
   ]
  },
  {
   "cell_type": "code",
   "execution_count": 56,
   "id": "0f77cf3d",
   "metadata": {},
   "outputs": [
    {
     "name": "stdout",
     "output_type": "stream",
     "text": [
      "Erro esperado detectado: O array x contém valores que não são números reais\n",
      "Resultado ignorando partes imaginárias: 32.0\n"
     ]
    }
   ],
   "source": [
    "def test_dot_real_ignore_complex():\n",
    "    x = np.array([1.0 + 2.0j, 2.0, 3.0])\n",
    "    y = np.array([4.0, 5.0, 6.0])\n",
    "    \n",
    "    try:\n",
    "        resultado = br.dot_real(x, y)\n",
    "    except AssertionError as e:\n",
    "        print(\"Erro esperado detectado:\", e)\n",
    "        resultado = br.dot_real(x.real, y.real)\n",
    "        print(\"Resultado ignorando partes imaginárias:\", resultado)  # Esperado: 1*4 + 2*5 + 3*6 = 32\n",
    "    \n",
    "\n",
    "test_dot_real_ignore_complex()\n"
   ]
  },
  {
   "cell_type": "code",
   "execution_count": 31,
   "id": "98c58808",
   "metadata": {},
   "outputs": [
    {
     "name": "stdout",
     "output_type": "stream",
     "text": [
      "Comparação com numpy.dot ignorando parte imaginária: True\n"
     ]
    }
   ],
   "source": [
    "def test_dot_complex_compare_numpy_dot():\n",
    "    x = np.array([1.0 + 2.0j, 2.0, 3.0])\n",
    "    y = np.array([4.0, 5.0, 6.0])\n",
    "    \n",
    "    resultado_custom = br.dot_real(x.real, y)\n",
    "    resultado_numpy = np.dot(x.real, y)  # Considera apenas a parte real\n",
    "    \n",
    "    print(\"Comparação com numpy.dot ignorando parte imaginária:\", resultado_custom == resultado_numpy)\n",
    "\n",
    "test_dot_complex_compare_numpy_dot()\n"
   ]
  },
  {
   "cell_type": "markdown",
   "id": "79dd52c1",
   "metadata": {},
   "source": [
    "### Usando dot_product"
   ]
  },
  {
   "cell_type": "code",
   "execution_count": 45,
   "id": "3e406d78",
   "metadata": {},
   "outputs": [],
   "source": [
    "\n",
    "\n",
    "def test_dot_real_not_1D_arrays():\n",
    "    'fail due to input that is not 1D array'\n",
    "    vector_1 = np.ones((3,2))\n",
    "    vector_2 = np.arange(4)\n",
    "    try:\n",
    "        br.dot_real(vector_1, vector_2)\n",
    "    except AssertionError as e:\n",
    "        print(\"Erro esperado detectado:\", e)\n",
    "        \n",
    "def test_dot_real_different_sizes():\n",
    "    'fail due to inputs having different sizes'\n",
    "    vector_1 = np.linspace(5,6,7)\n",
    "    vector_2 = np.arange(4)\n",
    "    try:\n",
    "        br.dot_real(vector_1, vector_2)\n",
    "    except AssertionError as e:\n",
    "        print(\"Erro esperado detectado:\", e)\n",
    "\n",
    "\n",
    "def test_dot_real_known_values():\n",
    "    'check output produced by specific input'\n",
    "    vector_1 = 0.1*np.ones(10)\n",
    "    vector_2 = np.linspace(23.1, 52, 10)\n",
    "    reference_output = np.mean(vector_2)\n",
    "    computed_output = br.dot_real(vector_1, vector_2)\n",
    "    return np.allclose(reference_output, computed_output, rtol=10)\n",
    "\n",
    "\n",
    "def test_dot_real_compare_numpy_dot():\n",
    "    'compare with numpy.dot'\n",
    "    # set random generator\n",
    "    rng = np.random.default_rng(12765)\n",
    "    # use the random generator to create input parameters\n",
    "    vector_1 = rng.random(13)\n",
    "    vector_2 = rng.random(13)\n",
    "    reference_output_numpy = br.dot_real(vector_1, vector_2)\n",
    "    return np.allclose(reference_output_numpy, np.dot(vector_1, vector_2), rtol=10)\n",
    "\n",
    "\n",
    "def test_dot_real_commutativity():\n",
    "    'verify commutativity'\n",
    "    # set random generator\n",
    "    rng = np.random.default_rng(555543127)\n",
    "    # use the random generator to create input parameters\n",
    "    a = rng.random(15)\n",
    "    b = rng.random(15)\n",
    "    # a dot b = b dot a\n",
    "    output_ab = br.dot_real(a, b)\n",
    "    output_ba = br.dot_real(b, a)\n",
    "    return np.allclose(output_ab, output_ba, rtol=10)\n",
    "\n",
    "\n",
    "def test_dot_real_distributivity():\n",
    "    'verify distributivity over sum'\n",
    "    # set random generator\n",
    "    rng = np.random.default_rng(555543127)\n",
    "    # use the random generator to create input parameters\n",
    "    a = rng.random(15)\n",
    "    b = rng.random(15)\n",
    "    c = rng.random(15)\n",
    "    # a dot (b + c) = (a dot b) + (a dot c)\n",
    "    output_a_bc = br.dot_real(a, b + c)\n",
    "    output_ab_ac = br.dot_real(a, b) + br.dot_real(a, c)\n",
    "    return np.allclose(output_a_bc, output_ab_ac, rtol=10)\n",
    "\n",
    "\n",
    "def test_dot_real_scalar_multiplication():\n",
    "    'verify scalar multiplication property'\n",
    "    # set random generator\n",
    "    rng = np.random.default_rng(333543127)\n",
    "    # use the random generator to create input parameters\n",
    "    a = rng.random(15)\n",
    "    b = rng.random(15)\n",
    "    c1 = 5.6\n",
    "    c2 = 9.1\n",
    "    # (c1 a) dot (c2 b) = c1c2 (a dot b)\n",
    "    output_c1a_c2b = br.dot_real(c1*a, c2*b)\n",
    "    output_c1c2_ab = c1*c2*br.dot_real(a, b)\n",
    "    return np.allclose(output_c1a_c2b, output_c1c2_ab, rtol=10)\n",
    "\n",
    "\n",
    "def test_dot_real_ignore_complex():\n",
    "    'complex part of input must be ignored'\n",
    "    vector_1 = 0.1*np.ones(10)\n",
    "    vector_2 = np.linspace(23.1, 52, 10) - 1j*np.ones(10)\n",
    "    reference_output = np.mean(vector_2.real)\n",
    "    computed_output = br.dot_real(vector_1, vector_2.real)\n",
    "    return np.allclose(reference_output, computed_output, rtol=10)\n",
    "\n",
    "\n",
    "def test_dot_complex_compare_numpy_dot():\n",
    "    'compare dot_complex, numpy and numba with numpy.dot'\n",
    "    # set random generator\n",
    "    rng = np.random.default_rng(1111763412)\n",
    "    # use the random generator to create input parameters\n",
    "    vector_1 = rng.random(13) + 1j*rng.random(13)\n",
    "    vector_2 = rng.random(13) + 1j*rng.random(13)\n",
    "    output = br.dot_complex(vector_1.real, vector_2.real)\n",
    "    output_numpy_dot = np.dot(vector_1, vector_2)\n",
    "    return np.allclose(output, output_numpy_dot.real, rtol=10)"
   ]
  },
  {
   "cell_type": "code",
   "execution_count": 46,
   "id": "c6be8fd3",
   "metadata": {},
   "outputs": [
    {
     "name": "stdout",
     "output_type": "stream",
     "text": [
      "Erro esperado detectado: Numero de elementos em x é diferente de numero de elementos em y\n"
     ]
    }
   ],
   "source": [
    "test_dot_real_not_1D_arrays()"
   ]
  },
  {
   "cell_type": "code",
   "execution_count": 47,
   "id": "e7b2ea18",
   "metadata": {},
   "outputs": [
    {
     "name": "stdout",
     "output_type": "stream",
     "text": [
      "Erro esperado detectado: Numero de elementos em x é diferente de numero de elementos em y\n"
     ]
    }
   ],
   "source": [
    "test_dot_real_different_sizes()"
   ]
  },
  {
   "cell_type": "code",
   "execution_count": 48,
   "id": "01dbb41a",
   "metadata": {},
   "outputs": [
    {
     "data": {
      "text/plain": [
       "True"
      ]
     },
     "execution_count": 48,
     "metadata": {},
     "output_type": "execute_result"
    }
   ],
   "source": [
    "test_dot_real_known_values()"
   ]
  },
  {
   "cell_type": "code",
   "execution_count": 49,
   "id": "635b0c2d",
   "metadata": {},
   "outputs": [
    {
     "data": {
      "text/plain": [
       "True"
      ]
     },
     "execution_count": 49,
     "metadata": {},
     "output_type": "execute_result"
    }
   ],
   "source": [
    "test_dot_real_compare_numpy_dot()"
   ]
  },
  {
   "cell_type": "code",
   "execution_count": 50,
   "id": "49c2ca74",
   "metadata": {},
   "outputs": [
    {
     "data": {
      "text/plain": [
       "True"
      ]
     },
     "execution_count": 50,
     "metadata": {},
     "output_type": "execute_result"
    }
   ],
   "source": [
    "test_dot_real_commutativity()"
   ]
  },
  {
   "cell_type": "code",
   "execution_count": 51,
   "id": "c80208a3",
   "metadata": {},
   "outputs": [
    {
     "data": {
      "text/plain": [
       "True"
      ]
     },
     "execution_count": 51,
     "metadata": {},
     "output_type": "execute_result"
    }
   ],
   "source": [
    "test_dot_real_distributivity()"
   ]
  },
  {
   "cell_type": "code",
   "execution_count": 52,
   "id": "e6e6c099",
   "metadata": {},
   "outputs": [
    {
     "data": {
      "text/plain": [
       "True"
      ]
     },
     "execution_count": 52,
     "metadata": {},
     "output_type": "execute_result"
    }
   ],
   "source": [
    "test_dot_real_scalar_multiplication()"
   ]
  },
  {
   "cell_type": "code",
   "execution_count": 53,
   "id": "2884b601",
   "metadata": {},
   "outputs": [
    {
     "data": {
      "text/plain": [
       "True"
      ]
     },
     "execution_count": 53,
     "metadata": {},
     "output_type": "execute_result"
    }
   ],
   "source": [
    "test_dot_real_ignore_complex()"
   ]
  },
  {
   "cell_type": "code",
   "execution_count": 54,
   "id": "73a78a99",
   "metadata": {},
   "outputs": [
    {
     "data": {
      "text/plain": [
       "True"
      ]
     },
     "execution_count": 54,
     "metadata": {},
     "output_type": "execute_result"
    }
   ],
   "source": [
    "test_dot_complex_compare_numpy_dot()"
   ]
  },
  {
   "cell_type": "code",
   "execution_count": null,
   "id": "b2a279fb",
   "metadata": {},
   "outputs": [],
   "source": []
  }
 ],
 "metadata": {
  "kernelspec": {
   "display_name": "Python 3 (ipykernel)",
   "language": "python",
   "name": "python3"
  },
  "language_info": {
   "codemirror_mode": {
    "name": "ipython",
    "version": 3
   },
   "file_extension": ".py",
   "mimetype": "text/x-python",
   "name": "python",
   "nbconvert_exporter": "python",
   "pygments_lexer": "ipython3",
   "version": "3.11.7"
  }
 },
 "nbformat": 4,
 "nbformat_minor": 5
}
