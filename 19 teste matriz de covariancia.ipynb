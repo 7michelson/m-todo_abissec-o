{
 "cells": [
  {
   "cell_type": "code",
   "execution_count": 4,
   "id": "3242a8d6",
   "metadata": {},
   "outputs": [],
   "source": [
    "import bruno \n",
    "import numpy as np"
   ]
  },
  {
   "cell_type": "code",
   "execution_count": 21,
   "id": "8711efcf",
   "metadata": {},
   "outputs": [
    {
     "name": "stdout",
     "output_type": "stream",
     "text": [
      "Matriz de Covariância Σ_t:\n",
      "[[ 5.  5.  1.]\n",
      " [ 5. 11.  7.]\n",
      " [ 1.  7. 17.]]\n"
     ]
    },
    {
     "data": {
      "text/plain": [
       "array([[ 5,  5,  1],\n",
       "       [ 5, 11,  7],\n",
       "       [ 1,  7, 17]])"
      ]
     },
     "execution_count": 21,
     "metadata": {},
     "output_type": "execute_result"
    }
   ],
   "source": [
    "# Defina a matriz H e o vetor v (supondo que v tenha N dimensões)\n",
    "\n",
    "H = np.array([[2, 1, 0], [1, 3, 1], [0, 1, 4]])  # Exemplo de matriz H\n",
    "v = np.array([1, 2, 3])  # Exemplo de vetor v\n",
    "N = v.shape[0] # Exemplo para uma matriz 3x3\n",
    "# Defina a matriz de covariância Σ_v (diagonal para elementos não correlacionados)\n",
    "sigma_v = 1  # Variância de v\n",
    "Sigma_v = sigma_v ** 2 * np.eye(N)   # Matriz de covariância diagonal\n",
    "\n",
    "# Calcule Σ_t = H Σ_v H^T\n",
    "Sigma_t = Sigma_v @ np.dot(H,  H.T)  # @ é a multiplicação de matrizes \n",
    "\n",
    "# Exibir a matriz de covariância Σ_t\n",
    "print(\"Matriz de Covariância Σ_t:\")\n",
    "print(Sigma_t)\n",
    "H@H.T"
   ]
  },
  {
   "cell_type": "code",
   "execution_count": 17,
   "id": "9be1de18",
   "metadata": {},
   "outputs": [
    {
     "data": {
      "text/plain": [
       "1.0"
      ]
     },
     "execution_count": 17,
     "metadata": {},
     "output_type": "execute_result"
    }
   ],
   "source": [
    "bruno.variancia(v)"
   ]
  },
  {
   "cell_type": "code",
   "execution_count": 15,
   "id": "7b8a49ed",
   "metadata": {},
   "outputs": [
    {
     "data": {
      "text/plain": [
       "array([[1., 0., 0.],\n",
       "       [0., 1., 0.],\n",
       "       [0., 0., 1.]])"
      ]
     },
     "execution_count": 15,
     "metadata": {},
     "output_type": "execute_result"
    }
   ],
   "source": [
    "np.cov(v)*np.eye(N)"
   ]
  },
  {
   "cell_type": "code",
   "execution_count": 12,
   "id": "6a8c2810",
   "metadata": {},
   "outputs": [
    {
     "data": {
      "text/plain": [
       "array([[ 5.,  5.,  1.],\n",
       "       [ 5., 11.,  7.],\n",
       "       [ 1.,  7., 17.]])"
      ]
     },
     "execution_count": 12,
     "metadata": {},
     "output_type": "execute_result"
    }
   ],
   "source": [
    "bruno.mat_covariancia(H, v)"
   ]
  },
  {
   "cell_type": "code",
   "execution_count": 18,
   "id": "68c8d121",
   "metadata": {},
   "outputs": [
    {
     "data": {
      "text/plain": [
       "array([[ 5.,  5.,  1.],\n",
       "       [ 5., 11.,  7.],\n",
       "       [ 1.,  7., 17.]])"
      ]
     },
     "execution_count": 18,
     "metadata": {},
     "output_type": "execute_result"
    }
   ],
   "source": [
    "np.cov(v)*np.eye(N)@ np.dot(H, H.T)"
   ]
  },
  {
   "cell_type": "code",
   "execution_count": null,
   "id": "1bab5225",
   "metadata": {},
   "outputs": [],
   "source": []
  }
 ],
 "metadata": {
  "kernelspec": {
   "display_name": "Python 3 (ipykernel)",
   "language": "python",
   "name": "python3"
  },
  "language_info": {
   "codemirror_mode": {
    "name": "ipython",
    "version": 3
   },
   "file_extension": ".py",
   "mimetype": "text/x-python",
   "name": "python",
   "nbconvert_exporter": "python",
   "pygments_lexer": "ipython3",
   "version": "3.11.7"
  }
 },
 "nbformat": 4,
 "nbformat_minor": 5
}
