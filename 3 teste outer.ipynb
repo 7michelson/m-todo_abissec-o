{
 "cells": [
  {
   "cell_type": "markdown",
   "id": "f42b762b-2211-40de-ad3c-6110277c8471",
   "metadata": {},
   "source": [
    "# Outer "
   ]
  },
  {
   "cell_type": "code",
   "execution_count": 21,
   "id": "82aae8fc",
   "metadata": {},
   "outputs": [],
   "source": [
    "from numpy.testing import assert_almost_equal as aae\n",
    "import pytest\n",
    "import bruno as br\n",
    "import numpy as np\n",
    "\n",
    "def test_outer_real_input_not_vector():\n",
    "    'fail with non-vector inputs'\n",
    "    a = np.linspace(5,10,8)\n",
    "    B = np.ones((4,4))\n",
    "    try:\n",
    "        br.outer_real(a, B)\n",
    "    except AssertionError as err: \n",
    "        print(err)\n",
    "    except ArithmeticError as err: \n",
    "        print(err)\n",
    "    try:\n",
    "        br.outer_real_row(a, B)\n",
    "    except AssertionError as err:\n",
    "        print(err)\n",
    "    except ArithmeticError as err: \n",
    "        print(err)\n",
    "    try:\n",
    "        br.outer_real_column(a, B)\n",
    "    except AssertionError as err:\n",
    "        print(err)\n",
    "    except ArithmeticError as err: \n",
    "        print(err)\n",
    "\n",
    "\n",
    "def test_outer_real_compare_numpy_outer():\n",
    "    'compare with numpy.outer'\n",
    "    # set random generator\n",
    "    rng = np.random.default_rng(555799917665544441234)\n",
    "    vector_1 = rng.random(13)\n",
    "    vector_2 = rng.random(13)\n",
    "    try: \n",
    "        reference_output_numpy = np.outer(vector_1, vector_2)\n",
    "        computed_output_simple = br.outer_real(vector_1, vector_2)\n",
    "        computed_output_row = br.outer_real_row(vector_1, vector_2)\n",
    "        computed_output_column = br.outer_real_column(vector_1, vector_2)\n",
    "        print(\n",
    "        np.allclose(reference_output_numpy, computed_output_simple, rtol=10),\n",
    "        np.allclose(reference_output_numpy, computed_output_row, rtol=10),\n",
    "        np.allclose(reference_output_numpy, computed_output_column, rtol=10)\n",
    "        )\n",
    "   \n",
    "    except AssertionError as err: \n",
    "        print(err)\n",
    "    except ArithmeticError as err: \n",
    "        print(err)\n",
    "\n",
    "def test_outer_real_known_values():\n",
    "    'check output produced by specific input'\n",
    "    try:\n",
    "        vector_1 = np.ones(5)\n",
    "        vector_2 = np.arange(1,11)\n",
    "        reference_output = np.resize(vector_2, (vector_1.size, vector_2.size))\n",
    "        computed_output_simple = br.outer_real(vector_1, vector_2)\n",
    "        computed_output_row = br.outer_real_row(vector_1, vector_2)\n",
    "        computed_output_column = br.outer_real_column(vector_1, vector_2)\n",
    "        print(\n",
    "        np.allclose(reference_output, computed_output_simple, rtol=10),\n",
    "        np.allclose(reference_output, computed_output_row, rtol=10),\n",
    "        np.allclose(reference_output, computed_output_column, rtol=10)\n",
    "        )\n",
    "    except ArithmeticError as e:\n",
    "        print(e)\n",
    "    except AssertionError as a:\n",
    "        print(a)\n",
    "    except ValueError as v:\n",
    "        print(v)\n",
    "def test_outer_real_transposition():\n",
    "    'verify the transposition property'\n",
    "    # set random generator\n",
    "    rng = np.random.default_rng(555799917665544441234)\n",
    "    a = rng.random(8)\n",
    "    b = rng.random(5)\n",
    "    try:\n",
    "        a_outer_b_T_simple = br.outer_real(a, b).T\n",
    "        b_outer_a_simple = br.outer_real(b, a)\n",
    "        a_outer_b_T_row = br.outer_real_row(a, b).T\n",
    "        b_outer_a_row = br.outer_real_row(b, a)\n",
    "        a_outer_b_T_column = br.outer_real_column(a, b).T\n",
    "        b_outer_a_column = br.outer_real_column(b, a)\n",
    "        print(\n",
    "        np.allclose(a_outer_b_T_simple, b_outer_a_simple, rtol=10),\n",
    "        np.allclose(a_outer_b_T_row, b_outer_a_row, rtol=10),\n",
    "        np.allclose(a_outer_b_T_column, b_outer_a_column, rtol=10)\n",
    "        )\n",
    "    except ArithmeticError as e:\n",
    "        print(e)\n",
    "    except AssertionError as a:\n",
    "        print(a)\n",
    "    except ValueError as v:\n",
    "        print(v)\n",
    "\n",
    "\n",
    "def test_outer_real_distributivity():\n",
    "    'verify the distributivity property'\n",
    "    rng = np.random.default_rng(111555799917665544441)\n",
    "    a = rng.random(5)\n",
    "    b = rng.random(5)\n",
    "    c = rng.random(4)\n",
    "    \n",
    "    try:\n",
    "        # Testando distributividade com a função outer_real\n",
    "        a_plus_b_outer_c_simple = br.outer_real(a + b, c)\n",
    "        a_outer_c_plus_b_outer_c_simple = (\n",
    "            br.outer_real(a, c) + br.outer_real(b, c)\n",
    "        )\n",
    "        assert np.allclose(a_plus_b_outer_c_simple, a_outer_c_plus_b_outer_c_simple, rtol=1e-5), \\\n",
    "            \"Falha na verificação de distributividade (simple)\"\n",
    "    \n",
    "    except ArithmeticError as e:\n",
    "        print(f\"ArithmeticError: {e}\")\n",
    "    except AssertionError as a:\n",
    "        print(f\"AssertionError: {a}\")\n",
    "    except ValueError as v:\n",
    "        print(f\"ValueError: {v}\")\n",
    "    \n",
    "    try:\n",
    "        # Testando distributividade com a função outer_real_row\n",
    "        a_plus_b_outer_c_row = br.outer_real_row(a + b, c)\n",
    "        a_outer_c_plus_b_outer_c_row = (\n",
    "            br.outer_real_row(a, c) + br.outer_real_row(b, c)\n",
    "        )\n",
    "        assert np.allclose(a_plus_b_outer_c_row, a_outer_c_plus_b_outer_c_row, rtol=1e-5), \\\n",
    "            \"Falha na verificação de distributividade (row)\"\n",
    "    \n",
    "    except ArithmeticError as e:\n",
    "        print(f\"ArithmeticError: {e}\")\n",
    "    except AssertionError as a:\n",
    "        print(f\"AssertionError: {a}\")\n",
    "    except ValueError as v:\n",
    "        print(f\"ValueError: {v}\")\n",
    "    \n",
    "    try:\n",
    "        # Testando distributividade com a função outer_real_column\n",
    "        a_plus_b_outer_c_column = br.outer_real_column(a + b, c)\n",
    "        a_outer_c_plus_b_outer_c_column = (\n",
    "            br.outer_real_column(a, c) + br.outer_real_column(b, c)\n",
    "        )\n",
    "        assert np.allclose(a_plus_b_outer_c_column, a_outer_c_plus_b_outer_c_column, rtol=1e-5), \\\n",
    "            \"Falha na verificação de distributividade (column)\"\n",
    "        \n",
    "    except ArithmeticError as e:\n",
    "        print(f\"ArithmeticError: {e}\")\n",
    "    except AssertionError as a:\n",
    "        print(f\"AssertionError: {a}\")\n",
    "    except ValueError as v:\n",
    "        print(f\"ValueError: {v}\")\n",
    "\n",
    "        \n",
    "        \n",
    "\n",
    "def test_outer_real_distributivity():\n",
    "    'Verify the distributivity property'\n",
    "    rng = np.random.default_rng(111555799917665544441)\n",
    "    a = rng.random(5)\n",
    "    b = rng.random(5)\n",
    "    c = rng.random(4)\n",
    "    \n",
    "    try:\n",
    "        # Testando distributividade com a função outer_real\n",
    "        a_plus_b_outer_c_simple = br.outer_real(a + b, c)\n",
    "        a_outer_c_plus_b_outer_c_simple = (\n",
    "            br.outer_real(a, c) + br.outer_real(b, c)\n",
    "        )\n",
    "        l = np.allclose(a_plus_b_outer_c_simple, a_outer_c_plus_b_outer_c_simple, rtol=10)\n",
    "        print(l)\n",
    "    except ArithmeticError as e:\n",
    "        print(f\"ArithmeticError: {e}\")\n",
    "    except AssertionError as a:\n",
    "        print(f\"AssertionError: {a}\")\n",
    "    except ValueError as v:\n",
    "        print(f\"ValueError: {v}\")\n",
    "    \n",
    "    try:\n",
    "        # Testando distributividade com a função outer_real_row\n",
    "        a_plus_b_outer_c_row = br.outer_real_row(a + b, c)\n",
    "        a_outer_c_plus_b_outer_c_row = (\n",
    "            br.outer_real_row(a, c) + br.outer_real_row(b, c)\n",
    "        )\n",
    "        l = np.allclose(a_plus_b_outer_c_row, a_outer_c_plus_b_outer_c_row, rtol=10)\n",
    "        print(l)\n",
    "    except ArithmeticError as e:\n",
    "        print(f\"ArithmeticError: {e}\")\n",
    "    except AssertionError as a:\n",
    "        print(f\"AssertionError: {a}\")\n",
    "    except ValueError as v:\n",
    "        print(f\"ValueError: {v}\")\n",
    "    \n",
    "    try:\n",
    "        # Testando distributividade com a função outer_real_column\n",
    "        a_plus_b_outer_c_column = br.outer_real_column(a + b, c)\n",
    "        a_outer_c_plus_b_outer_c_column = (\n",
    "            br.outer_real_column(a, c) + br.outer_real_column(b, c)\n",
    "        )\n",
    "        l = np.allclose(a_plus_b_outer_c_column, a_outer_c_plus_b_outer_c_column, rtol=10)\n",
    "        print(l)\n",
    "    except ArithmeticError as e:\n",
    "        print(f\"ArithmeticError: {e}\")\n",
    "    except AssertionError as a:\n",
    "        print(f\"AssertionError: {a}\")\n",
    "    except ValueError as v:\n",
    "        print(f\"ValueError: {v}\")\n",
    "\n",
    "\n",
    "def test_outer_real_ignore_complex():\n",
    "    'complex part of input must be ignored'\n",
    "    vector_1 = np.ones(5) - 0.4j*np.ones(5)\n",
    "    vector_1 = vector_1.real\n",
    "    vector_2 = np.arange(1,11)\n",
    "    vector_2 = vector_2.real\n",
    "    reference_output = np.resize(vector_2, (vector_1.size, vector_2.size))\n",
    "    outer_real = {\n",
    "        'simple' : br.outer_real,\n",
    "        'row' : br.outer_real_row,\n",
    "        'column' : br.outer_real_column\n",
    "    }\n",
    "    try:\n",
    "        computed_output = []\n",
    "        for function in ['simple', 'row', 'column']:\n",
    "            computed_output.append(outer_real[function](vector_1, vector_2))\n",
    "        print(np.allclose(reference_output, computed_output[0], rtol=10),\n",
    "        np.allclose(reference_output, computed_output[1], rtol=10),\n",
    "        np.allclose(reference_output, computed_output[2], rtol=10)\n",
    "        )\n",
    "    except ArithmeticError as e:\n",
    "        print(f\"ArithmeticError: {e}\")\n",
    "    except AssertionError as a:\n",
    "        print(f\"AssertionError: {a}\")\n",
    "    except ValueError as v:\n",
    "        print(f\"ValueError: {v}\")\n",
    "\n",
    "def test_outer_complex_compare_numpy_outer():\n",
    "    'compare hadamard_complex function with * operator'\n",
    "    # for matrices\n",
    "    rng = np.random.default_rng(876231115557999176655)\n",
    "    input1 = rng.random(7) + 1j*rng.random(7)\n",
    "    input2 = rng.random(7) + 1j*rng.random(7)\n",
    "    output_numpy_outer = np.outer(input1, input2)\n",
    "    output = []\n",
    "    for function in ['simple', 'row', 'column']:\n",
    "        output.append(br.outer_complex(input1, input2, function))\n",
    "    print(np.allclose(output[0], output_numpy_outer, rtol=10),\n",
    "    np.allclose(output[1], output_numpy_outer, rtol=10),\n",
    "    np.allclose(output[2], output_numpy_outer, rtol=10)\n",
    "    )\n",
    "\n",
    "def test_outer_complex_invalid_function():\n",
    "    'raise error for invalid function'\n",
    "    try:\n",
    "        for invalid_function in ['Simple', 'xxxxx', 'rows']:\n",
    "            br.outer_complex(np.ones(3), np.ones(3), invalid_function)\n",
    "    except ArithmeticError as e:\n",
    "        print(f\"ArithmeticError: {e}\")\n",
    "    except AssertionError as a:\n",
    "        print(f\"AssertionError: {a}\")\n",
    "    except ValueError as v:\n",
    "        print(f\"ValueError: {v}\")\n",
    "    except AttributeError as at:\n",
    "        print(f'AttributeError: {at}')\n",
    "        \n",
    "import numpy as np\n",
    "from numpy.testing import assert_almost_equal as aae\n",
    "import pytest\n",
    "import bruno as br\n",
    "\n",
    "def test_outer_real_scalar_multiplication():\n",
    "    'Verify scalar multiplication property'\n",
    "    rng = np.random.default_rng(231115557999176655444)\n",
    "    a = rng.random(3)\n",
    "    b = rng.random(6)\n",
    "    c = 3.4\n",
    "\n",
    "    ca_outer_b = []\n",
    "    a_outer_cb = []\n",
    "    try:\n",
    "        for function in [ '','_row', '_column']:\n",
    "            # Obter a função apropriada do módulo bruno\n",
    "            outer_func = getattr(br, f'outer_real{function}')#simples ja é a outer_real\n",
    "\n",
    "            # Testar a multiplicação escalar\n",
    "            ca_outer_b.append(outer_func(c * a, b))\n",
    "            a_outer_cb.append(outer_func(a, c * b))\n",
    "\n",
    "        # Comparar os resultados\n",
    "        for i, function in enumerate(['simple', 'row', 'column']):\n",
    "            print(np.allclose(ca_outer_b[i], a_outer_cb[i], rtol=10))\n",
    "    \n",
    "    except ArithmeticError as e:\n",
    "        print(f\"ArithmeticError: {e}\")\n",
    "    except AssertionError as a:\n",
    "        print(f\"AssertionError: {a}\")\n",
    "    except ValueError as v:\n",
    "        print(f\"ValueError: {v}\")\n",
    "    except AttributeError as at:\n",
    "        print(f'AttributeError: {at}')"
   ]
  },
  {
   "cell_type": "code",
   "execution_count": 22,
   "id": "800326d7",
   "metadata": {},
   "outputs": [
    {
     "name": "stdout",
     "output_type": "stream",
     "text": [
      "A matrix x e y deve ser 1D.\n",
      "x deve ter ndim = 1\n",
      "a deve ser um escalar\n"
     ]
    }
   ],
   "source": [
    "test_outer_real_input_not_vector()"
   ]
  },
  {
   "cell_type": "code",
   "execution_count": 23,
   "id": "6af391cf",
   "metadata": {},
   "outputs": [
    {
     "name": "stdout",
     "output_type": "stream",
     "text": [
      "True True True\n"
     ]
    }
   ],
   "source": [
    "test_outer_real_compare_numpy_outer()"
   ]
  },
  {
   "cell_type": "code",
   "execution_count": 24,
   "id": "607d996a",
   "metadata": {},
   "outputs": [
    {
     "name": "stdout",
     "output_type": "stream",
     "text": [
      "a deve ser um escalar\n"
     ]
    }
   ],
   "source": [
    "test_outer_real_known_values()"
   ]
  },
  {
   "cell_type": "code",
   "execution_count": 25,
   "id": "5882b3fa",
   "metadata": {},
   "outputs": [
    {
     "name": "stdout",
     "output_type": "stream",
     "text": [
      "True True True\n"
     ]
    }
   ],
   "source": [
    "test_outer_real_transposition()"
   ]
  },
  {
   "cell_type": "code",
   "execution_count": 26,
   "id": "a90aaebb",
   "metadata": {},
   "outputs": [
    {
     "name": "stdout",
     "output_type": "stream",
     "text": [
      "True\n",
      "True\n",
      "True\n"
     ]
    }
   ],
   "source": [
    "test_outer_real_distributivity()"
   ]
  },
  {
   "cell_type": "code",
   "execution_count": 27,
   "id": "67cfccaa",
   "metadata": {},
   "outputs": [
    {
     "name": "stdout",
     "output_type": "stream",
     "text": [
      "AssertionError: a deve ser um escalar\n"
     ]
    }
   ],
   "source": [
    "test_outer_real_ignore_complex()"
   ]
  },
  {
   "cell_type": "code",
   "execution_count": 28,
   "id": "e460d905",
   "metadata": {},
   "outputs": [
    {
     "name": "stdout",
     "output_type": "stream",
     "text": [
      "True True True\n"
     ]
    }
   ],
   "source": [
    "test_outer_complex_compare_numpy_outer()\n"
   ]
  },
  {
   "cell_type": "code",
   "execution_count": 29,
   "id": "b253d51c",
   "metadata": {},
   "outputs": [],
   "source": [
    "test_outer_complex_invalid_function()"
   ]
  },
  {
   "cell_type": "code",
   "execution_count": 31,
   "id": "1e304391",
   "metadata": {},
   "outputs": [
    {
     "name": "stdout",
     "output_type": "stream",
     "text": [
      "True\n",
      "True\n",
      "True\n"
     ]
    }
   ],
   "source": [
    "test_outer_real_scalar_multiplication()"
   ]
  },
  {
   "cell_type": "code",
   "execution_count": null,
   "id": "02d73378",
   "metadata": {},
   "outputs": [],
   "source": []
  }
 ],
 "metadata": {
  "kernelspec": {
   "display_name": "Python 3 (ipykernel)",
   "language": "python",
   "name": "python3"
  },
  "language_info": {
   "codemirror_mode": {
    "name": "ipython",
    "version": 3
   },
   "file_extension": ".py",
   "mimetype": "text/x-python",
   "name": "python",
   "nbconvert_exporter": "python",
   "pygments_lexer": "ipython3",
   "version": "3.12.4"
  }
 },
 "nbformat": 4,
 "nbformat_minor": 5
}
