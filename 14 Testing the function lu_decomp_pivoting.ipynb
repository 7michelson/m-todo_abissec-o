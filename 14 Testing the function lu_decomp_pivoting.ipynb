{
 "cells": [
  {
   "cell_type": "markdown",
   "id": "974ab788-185f-4591-950b-de63c6b41d5e",
   "metadata": {},
   "source": [
    "# Test função de decomposição LU"
   ]
  },
  {
   "cell_type": "code",
   "execution_count": 1,
   "id": "18015bc6",
   "metadata": {},
   "outputs": [],
   "source": [
    "import bruno \n",
    "import numpy as np"
   ]
  },
  {
   "cell_type": "code",
   "execution_count": 2,
   "id": "60c23785",
   "metadata": {},
   "outputs": [],
   "source": [
    "from bruno import lu_decomp_pivoting\n",
    "from bruno import lu_solve_pivoting"
   ]
  },
  {
   "cell_type": "markdown",
   "id": "2495704a",
   "metadata": {},
   "source": [
    "## Nesse momento vamos fazer a decomposição A = LU "
   ]
  },
  {
   "cell_type": "code",
   "execution_count": 3,
   "id": "8042abf4",
   "metadata": {},
   "outputs": [],
   "source": [
    "A = np.array([[2., 1., 1.],\n",
    "              [4., -6., 0.],\n",
    "              [-2., 7., 2.]])\n",
    "\n",
    "P, L, U = lu_decomp_pivoting(A, retornaLU=True)"
   ]
  },
  {
   "cell_type": "code",
   "execution_count": 4,
   "id": "ab787c56",
   "metadata": {},
   "outputs": [
    {
     "data": {
      "text/plain": [
       "array([[ 1. ,  0. ,  0. ],\n",
       "       [ 0.5,  1. ,  0. ],\n",
       "       [-0.5,  1. ,  1. ]])"
      ]
     },
     "execution_count": 4,
     "metadata": {},
     "output_type": "execute_result"
    }
   ],
   "source": [
    "L"
   ]
  },
  {
   "cell_type": "code",
   "execution_count": 5,
   "id": "96a7270a",
   "metadata": {},
   "outputs": [
    {
     "data": {
      "text/plain": [
       "array([[ 4., -6.,  0.],\n",
       "       [ 0.,  4.,  1.],\n",
       "       [ 0.,  0.,  1.]])"
      ]
     },
     "execution_count": 5,
     "metadata": {},
     "output_type": "execute_result"
    }
   ],
   "source": [
    "U"
   ]
  },
  {
   "cell_type": "code",
   "execution_count": 6,
   "id": "e5793bcc",
   "metadata": {},
   "outputs": [
    {
     "data": {
      "text/plain": [
       "True"
      ]
     },
     "execution_count": 6,
     "metadata": {},
     "output_type": "execute_result"
    }
   ],
   "source": [
    "np.allclose(A[P], L@U)"
   ]
  },
  {
   "cell_type": "markdown",
   "id": "88a51691",
   "metadata": {},
   "source": [
    "## Vamos definir um vetor qualquer que satisfaça a solução"
   ]
  },
  {
   "cell_type": "code",
   "execution_count": 7,
   "id": "8eba3114",
   "metadata": {},
   "outputs": [],
   "source": [
    "Vec = np.array([16, 8, 2])"
   ]
  },
  {
   "cell_type": "code",
   "execution_count": 8,
   "id": "b9536adb",
   "metadata": {},
   "outputs": [],
   "source": [
    "P, C = lu_decomp_pivoting(A)"
   ]
  },
  {
   "cell_type": "code",
   "execution_count": 9,
   "id": "cba02641",
   "metadata": {},
   "outputs": [
    {
     "data": {
      "text/plain": [
       "array([ 8.75,  4.5 , -6.  ])"
      ]
     },
     "execution_count": 9,
     "metadata": {},
     "output_type": "execute_result"
    }
   ],
   "source": [
    "r = lu_solve_pivoting(P = P, C= C, y = Vec)\n",
    "r"
   ]
  },
  {
   "cell_type": "code",
   "execution_count": 10,
   "id": "4757caa5",
   "metadata": {},
   "outputs": [
    {
     "data": {
      "text/plain": [
       "array([ 8.75,  4.5 , -6.  ])"
      ]
     },
     "execution_count": 10,
     "metadata": {},
     "output_type": "execute_result"
    }
   ],
   "source": [
    "np.linalg.solve(A, Vec)"
   ]
  },
  {
   "cell_type": "markdown",
   "id": "89c06506",
   "metadata": {},
   "source": [
    "### Sistema Ar = vec"
   ]
  },
  {
   "cell_type": "code",
   "execution_count": 11,
   "id": "24384603",
   "metadata": {},
   "outputs": [
    {
     "data": {
      "text/plain": [
       "array([16.,  8.,  2.])"
      ]
     },
     "execution_count": 11,
     "metadata": {},
     "output_type": "execute_result"
    }
   ],
   "source": [
    "bruno.matvec_dot(A, r)"
   ]
  },
  {
   "cell_type": "code",
   "execution_count": 12,
   "id": "919afb20",
   "metadata": {},
   "outputs": [
    {
     "data": {
      "text/plain": [
       "True"
      ]
     },
     "execution_count": 12,
     "metadata": {},
     "output_type": "execute_result"
    }
   ],
   "source": [
    "np.allclose(Vec, A@r)"
   ]
  },
  {
   "cell_type": "code",
   "execution_count": 13,
   "id": "9fe1f19d",
   "metadata": {},
   "outputs": [
    {
     "data": {
      "text/plain": [
       "array([[0., 1., 0.],\n",
       "       [1., 0., 0.],\n",
       "       [0., 0., 1.]])"
      ]
     },
     "execution_count": 13,
     "metadata": {},
     "output_type": "execute_result"
    }
   ],
   "source": [
    "# Obter I[P] a partir da lista de permutações P\n",
    "I = np.eye(A.shape[0])\n",
    "I_P_custom = I[P]\n",
    "I_P_custom"
   ]
  },
  {
   "cell_type": "code",
   "execution_count": 14,
   "id": "620cc2c5",
   "metadata": {},
   "outputs": [],
   "source": [
    "from scipy.linalg import lu\n",
    "# Decomposição LU com scipy\n",
    "P_scipy, L_scipy, U_scipy = lu(A)"
   ]
  },
  {
   "cell_type": "code",
   "execution_count": 15,
   "id": "613f71dc",
   "metadata": {},
   "outputs": [
    {
     "data": {
      "text/plain": [
       "array([[0., 1., 0.],\n",
       "       [1., 0., 0.],\n",
       "       [0., 0., 1.]])"
      ]
     },
     "execution_count": 15,
     "metadata": {},
     "output_type": "execute_result"
    }
   ],
   "source": [
    "P_scipy.T"
   ]
  },
  {
   "cell_type": "code",
   "execution_count": 16,
   "id": "abfac548",
   "metadata": {},
   "outputs": [
    {
     "data": {
      "text/plain": [
       "True"
      ]
     },
     "execution_count": 16,
     "metadata": {},
     "output_type": "execute_result"
    }
   ],
   "source": [
    "np.allclose(I_P_custom, P_scipy.T)"
   ]
  },
  {
   "cell_type": "markdown",
   "id": "534e813e",
   "metadata": {},
   "source": [
    "### continuando "
   ]
  },
  {
   "cell_type": "code",
   "execution_count": 27,
   "id": "c737f7db",
   "metadata": {},
   "outputs": [
    {
     "data": {
      "text/plain": [
       "array([20., 42., 29.])"
      ]
     },
     "execution_count": 27,
     "metadata": {},
     "output_type": "execute_result"
    }
   ],
   "source": [
    "# Definir a matriz A0 e o vetor x0\n",
    "A0 = np.array([[3., 1., 2.],\n",
    "               [6., 3., 4.],\n",
    "               [3., 1., 5.]])\n",
    "\n",
    "x0 = np.array([4., 2., 3.])\n",
    "\n",
    "# Calcular o vetor y0 como A0 * x0\n",
    "y0 = bruno.matvec_dot(A0 , x0)\n",
    "y0"
   ]
  },
  {
   "cell_type": "code",
   "execution_count": 40,
   "id": "92d31190",
   "metadata": {},
   "outputs": [],
   "source": [
    "P1, C1 = lu_decomp_pivoting(A0)"
   ]
  },
  {
   "cell_type": "code",
   "execution_count": 41,
   "id": "ea60d1e8",
   "metadata": {},
   "outputs": [
    {
     "data": {
      "text/plain": [
       "array([4., 2., 3.])"
      ]
     },
     "execution_count": 41,
     "metadata": {},
     "output_type": "execute_result"
    }
   ],
   "source": [
    "x1 = lu_solve_pivoting(P=P1, C=C1, y=y0)\n",
    "x1"
   ]
  },
  {
   "cell_type": "code",
   "execution_count": 42,
   "id": "486b6945",
   "metadata": {},
   "outputs": [],
   "source": [
    "diff = np.linalg.norm(x0 - x1)"
   ]
  },
  {
   "cell_type": "code",
   "execution_count": 43,
   "id": "b17b6b70",
   "metadata": {},
   "outputs": [
    {
     "data": {
      "text/plain": [
       "0.0"
      ]
     },
     "execution_count": 43,
     "metadata": {},
     "output_type": "execute_result"
    }
   ],
   "source": [
    "diff"
   ]
  },
  {
   "cell_type": "code",
   "execution_count": 44,
   "id": "90c28617",
   "metadata": {},
   "outputs": [
    {
     "data": {
      "text/plain": [
       "array([[ 1.e+00, -1.e-16, -2.e-16],\n",
       "       [ 0.e+00,  1.e+00,  0.e+00],\n",
       "       [ 0.e+00,  0.e+00,  1.e+00]])"
      ]
     },
     "execution_count": 44,
     "metadata": {},
     "output_type": "execute_result"
    }
   ],
   "source": [
    "np.round(np.linalg.inv(A0)@A0, 16) # até a 15 casa é uma identidade"
   ]
  },
  {
   "cell_type": "code",
   "execution_count": 45,
   "id": "47cf2346",
   "metadata": {},
   "outputs": [
    {
     "data": {
      "text/plain": [
       "8.999999999999998"
      ]
     },
     "execution_count": 45,
     "metadata": {},
     "output_type": "execute_result"
    }
   ],
   "source": [
    "np.linalg.det(A0)"
   ]
  },
  {
   "cell_type": "code",
   "execution_count": 46,
   "id": "1655cace",
   "metadata": {},
   "outputs": [
    {
     "data": {
      "text/plain": [
       "array([4., 2., 3.])"
      ]
     },
     "execution_count": 46,
     "metadata": {},
     "output_type": "execute_result"
    }
   ],
   "source": [
    "bruno.minimos_quadrados(A0, y0)"
   ]
  },
  {
   "cell_type": "code",
   "execution_count": 47,
   "id": "98bc1639",
   "metadata": {},
   "outputs": [
    {
     "data": {
      "text/plain": [
       "array([4., 2., 3.])"
      ]
     },
     "execution_count": 47,
     "metadata": {},
     "output_type": "execute_result"
    }
   ],
   "source": [
    "np.linalg.solve(A0, y0)"
   ]
  },
  {
   "cell_type": "markdown",
   "id": "1433d1b5",
   "metadata": {},
   "source": [
    "### Esse sistema tem solução"
   ]
  },
  {
   "cell_type": "code",
   "execution_count": null,
   "id": "a7642355",
   "metadata": {},
   "outputs": [],
   "source": []
  }
 ],
 "metadata": {
  "kernelspec": {
   "display_name": "Python 3 (ipykernel)",
   "language": "python",
   "name": "python3"
  },
  "language_info": {
   "codemirror_mode": {
    "name": "ipython",
    "version": 3
   },
   "file_extension": ".py",
   "mimetype": "text/x-python",
   "name": "python",
   "nbconvert_exporter": "python",
   "pygments_lexer": "ipython3",
   "version": "3.12.4"
  }
 },
 "nbformat": 4,
 "nbformat_minor": 5
}
