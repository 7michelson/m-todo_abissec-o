{
 "cells": [
  {
   "cell_type": "markdown",
   "id": "20819360-ee43-4a67-9bcc-0ad0460e69f7",
   "metadata": {},
   "source": [
    "# Norma - Matrix"
   ]
  },
  {
   "cell_type": "code",
   "execution_count": 1,
   "id": "fc02c49c",
   "metadata": {},
   "outputs": [],
   "source": [
    "import bruno\n",
    "import numpy as np"
   ]
  },
  {
   "cell_type": "markdown",
   "id": "82f30eb8",
   "metadata": {},
   "source": [
    "### Vamos testar as norma Frobenius, 2, 1  e $\\infty$"
   ]
  },
  {
   "cell_type": "code",
   "execution_count": 2,
   "id": "2ce20f1d",
   "metadata": {},
   "outputs": [],
   "source": [
    "A = np.array([[1, -2, 3], \n",
    "              [4, 0, -6], \n",
    "              [-7, 8, 9]])\n"
   ]
  },
  {
   "cell_type": "code",
   "execution_count": 3,
   "id": "e48fcc38",
   "metadata": {},
   "outputs": [
    {
     "name": "stdout",
     "output_type": "stream",
     "text": [
      "16.1245154965971\n"
     ]
    }
   ],
   "source": [
    "print(bruno.mat_norm(A, norm_type='fro'))   # Norma de Frobenius"
   ]
  },
  {
   "cell_type": "code",
   "execution_count": 4,
   "id": "b4214b97",
   "metadata": {},
   "outputs": [
    {
     "name": "stdout",
     "output_type": "stream",
     "text": [
      "18\n"
     ]
    }
   ],
   "source": [
    "print(bruno.mat_norm(A, norm_type='1'))       # 1-norma"
   ]
  },
  {
   "cell_type": "code",
   "execution_count": 5,
   "id": "585766b3",
   "metadata": {},
   "outputs": [
    {
     "name": "stdout",
     "output_type": "stream",
     "text": [
      "15.227543425917867\n"
     ]
    }
   ],
   "source": [
    "print(bruno.mat_norm(A, norm_type='2'))       # 2-norma"
   ]
  },
  {
   "cell_type": "code",
   "execution_count": 6,
   "id": "275e3d0d",
   "metadata": {},
   "outputs": [
    {
     "name": "stdout",
     "output_type": "stream",
     "text": [
      "24\n"
     ]
    }
   ],
   "source": [
    "print(bruno.mat_norm(A, norm_type='inf'))   # Infinito-norma"
   ]
  },
  {
   "cell_type": "markdown",
   "id": "6875945b",
   "metadata": {},
   "source": [
    "##### Comparando com numpy norm"
   ]
  },
  {
   "cell_type": "code",
   "execution_count": 7,
   "id": "fd95f653",
   "metadata": {},
   "outputs": [
    {
     "name": "stdout",
     "output_type": "stream",
     "text": [
      "16.1245154965971\n",
      "18.0\n",
      "15.227543425917865\n",
      "24.0\n"
     ]
    }
   ],
   "source": [
    "print(np.linalg.norm(A, ord='fro'))\n",
    "print(np.linalg.norm(A, 1))\n",
    "print(np.linalg.norm(A, 2))\n",
    "print(np.linalg.norm(A, np.inf))"
   ]
  },
  {
   "cell_type": "code",
   "execution_count": null,
   "id": "f7b10c49-9963-4827-a24b-844de0745579",
   "metadata": {},
   "outputs": [],
   "source": [
    "m = np.array([1, 0, 7, 9, 1 , 6, 0, 4"
   ]
  },
  {
   "cell_type": "code",
   "execution_count": null,
   "id": "6506dd10-1300-4332-aac4-aa216d25b71b",
   "metadata": {},
   "outputs": [],
   "source": [
    "bruno.vec_norm("
   ]
  }
 ],
 "metadata": {
  "kernelspec": {
   "display_name": "Python 3 (ipykernel)",
   "language": "python",
   "name": "python3"
  },
  "language_info": {
   "codemirror_mode": {
    "name": "ipython",
    "version": 3
   },
   "file_extension": ".py",
   "mimetype": "text/x-python",
   "name": "python",
   "nbconvert_exporter": "python",
   "pygments_lexer": "ipython3",
   "version": "3.12.4"
  }
 },
 "nbformat": 4,
 "nbformat_minor": 5
}
