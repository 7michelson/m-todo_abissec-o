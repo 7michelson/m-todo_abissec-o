{
 "cells": [
  {
   "cell_type": "markdown",
   "id": "8a7b351c-0c9c-42b5-ac2b-d4645561e4a7",
   "metadata": {},
   "source": [
    "# Eliminação de Gauss"
   ]
  },
  {
   "cell_type": "code",
   "execution_count": 1,
   "id": "2509f60d",
   "metadata": {},
   "outputs": [],
   "source": [
    "import bruno\n",
    "import numpy as np"
   ]
  },
  {
   "cell_type": "code",
   "execution_count": 2,
   "id": "c5329eaf",
   "metadata": {},
   "outputs": [],
   "source": [
    "A = np.array([[2.,1.,-1.],\n",
    "              [-3.,-1.,2.],\n",
    "              [-2.,1.,2.]])\n",
    "\n",
    "\n",
    "y = np.array([8., -11., -3.])"
   ]
  },
  {
   "cell_type": "code",
   "execution_count": 3,
   "id": "02b94765",
   "metadata": {},
   "outputs": [
    {
     "data": {
      "text/plain": [
       "array([ 2.,  3., -1.])"
      ]
     },
     "execution_count": 3,
     "metadata": {},
     "output_type": "execute_result"
    }
   ],
   "source": [
    "u, b=bruno.Gauss_elim(A, y)\n",
    "np.linalg.solve(u, b)"
   ]
  },
  {
   "cell_type": "code",
   "execution_count": 4,
   "id": "e43853d0",
   "metadata": {},
   "outputs": [
    {
     "data": {
      "text/plain": [
       "array([ 2.,  3., -1.])"
      ]
     },
     "execution_count": 4,
     "metadata": {},
     "output_type": "execute_result"
    }
   ],
   "source": [
    "t1 = np.linalg.solve(A, y)\n",
    "t1"
   ]
  },
  {
   "cell_type": "code",
   "execution_count": 5,
   "id": "656df430",
   "metadata": {},
   "outputs": [
    {
     "data": {
      "text/plain": [
       "array([ 2.,  3., -1.])"
      ]
     },
     "execution_count": 5,
     "metadata": {},
     "output_type": "execute_result"
    }
   ],
   "source": [
    "t2 = bruno.triangular_superior(u, b)\n",
    "t2"
   ]
  },
  {
   "cell_type": "code",
   "execution_count": 6,
   "id": "20dfb8a2",
   "metadata": {},
   "outputs": [
    {
     "name": "stdout",
     "output_type": "stream",
     "text": [
      "True\n"
     ]
    }
   ],
   "source": [
    "print(\"True\" if np.allclose(t1 ,t2 , rtol =1) else \"False\") # tolerancia de uma casa decimal"
   ]
  },
  {
   "cell_type": "code",
   "execution_count": 7,
   "id": "6450b301",
   "metadata": {},
   "outputs": [
    {
     "name": "stdout",
     "output_type": "stream",
     "text": [
      "<class 'numpy.ndarray'> <class 'numpy.ndarray'>\n"
     ]
    }
   ],
   "source": [
    "print(type(t1), type(t2))"
   ]
  },
  {
   "cell_type": "markdown",
   "id": "307311c5",
   "metadata": {},
   "source": [
    "### N = 8 elementos"
   ]
  },
  {
   "cell_type": "code",
   "execution_count": 8,
   "id": "71f10556",
   "metadata": {},
   "outputs": [],
   "source": [
    "A = np.array([[4, 1, -2, 3, 0, 7, 2, 5],\n",
    "              [2, 5, 0, -1, 4, 3, 6, -2],\n",
    "              [0, 4, 3, 1, -5, 2, 7, 0],\n",
    "              [1, 0, 5, 4, 2, 6, -3, 3],\n",
    "              [3, 2, 6, 0, 5, -1, 4, 1],\n",
    "              [-2, 1, 0, 3, 6, 4, 1, 2],\n",
    "              [5, 4, -1, 2, 3, 0, 7, 6],\n",
    "              [2, 6, 3, 5, -2, 1, 4, 0]], dtype=float)\n",
    "\n",
    "x = np.array([10, -2, 8, 7, 5, -3, 4, 6], dtype=float)"
   ]
  },
  {
   "cell_type": "code",
   "execution_count": 9,
   "id": "ae1b7f07",
   "metadata": {},
   "outputs": [],
   "source": [
    "U, b = bruno.Gauss_elim(A, x)"
   ]
  },
  {
   "cell_type": "code",
   "execution_count": 10,
   "id": "ae17f964",
   "metadata": {},
   "outputs": [
    {
     "name": "stdout",
     "output_type": "stream",
     "text": [
      "[[ 4.00000000e+00  1.00000000e+00 -2.00000000e+00  3.00000000e+00\n",
      "   0.00000000e+00  7.00000000e+00  2.00000000e+00  5.00000000e+00]\n",
      " [ 0.00000000e+00  4.50000000e+00  1.00000000e+00 -2.50000000e+00\n",
      "   4.00000000e+00 -5.00000000e-01  5.00000000e+00 -4.50000000e+00]\n",
      " [ 0.00000000e+00  0.00000000e+00  2.11111111e+00  3.22222222e+00\n",
      "  -8.55555556e+00  2.44444444e+00  2.55555556e+00  4.00000000e+00]\n",
      " [ 0.00000000e+00  0.00000000e+00  0.00000000e+00 -5.36842105e+00\n",
      "   2.47368421e+01 -2.21052632e+00 -9.94736842e+00 -9.02631579e+00]\n",
      " [ 0.00000000e+00  0.00000000e+00  0.00000000e+00  0.00000000e+00\n",
      "  -2.48039216e+01 -9.29411765e+00  1.56764706e+01  5.96568627e+00]\n",
      " [ 0.00000000e+00  0.00000000e+00  0.00000000e+00  0.00000000e+00\n",
      "   0.00000000e+00 -6.26956522e+00  9.28695652e+00  4.12608696e+00]\n",
      " [ 0.00000000e+00  0.00000000e+00  0.00000000e+00  0.00000000e+00\n",
      "  -4.44089210e-16  0.00000000e+00 -1.00159501e+01 -2.31733073e+00]\n",
      " [ 0.00000000e+00  0.00000000e+00  0.00000000e+00  0.00000000e+00\n",
      "  -9.52471886e-16  0.00000000e+00  0.00000000e+00 -5.93658457e+00]]\n"
     ]
    }
   ],
   "source": [
    "print(U)"
   ]
  },
  {
   "cell_type": "code",
   "execution_count": 11,
   "id": "b62aea3d",
   "metadata": {},
   "outputs": [
    {
     "data": {
      "text/plain": [
       "array([ 1.57343216, -2.33489651,  0.71631945,  1.51180125, -0.68578496,\n",
       "        0.5187449 ,  1.31605884, -0.6649858 ])"
      ]
     },
     "execution_count": 11,
     "metadata": {},
     "output_type": "execute_result"
    }
   ],
   "source": [
    "bruno.triangular_superior(U, b)"
   ]
  },
  {
   "cell_type": "code",
   "execution_count": 12,
   "id": "0d71501b",
   "metadata": {},
   "outputs": [
    {
     "data": {
      "text/plain": [
       "array([ 1.57343216, -2.33489651,  0.71631945,  1.51180125, -0.68578496,\n",
       "        0.5187449 ,  1.31605884, -0.6649858 ])"
      ]
     },
     "execution_count": 12,
     "metadata": {},
     "output_type": "execute_result"
    }
   ],
   "source": [
    "np.linalg.solve(U, b)"
   ]
  },
  {
   "cell_type": "code",
   "execution_count": 13,
   "id": "51ab8304",
   "metadata": {},
   "outputs": [
    {
     "data": {
      "text/plain": [
       "True"
      ]
     },
     "execution_count": 13,
     "metadata": {},
     "output_type": "execute_result"
    }
   ],
   "source": [
    "np.allclose(bruno.triangular_superior(U, b), np.linalg.solve(U, b), rtol=5 ) # tolerancia de 5 casas decimais"
   ]
  },
  {
   "cell_type": "markdown",
   "id": "1add17e7",
   "metadata": {},
   "source": [
    "### Testando a matriz do exemplo de aula"
   ]
  },
  {
   "cell_type": "code",
   "execution_count": 14,
   "id": "92ee2820",
   "metadata": {},
   "outputs": [],
   "source": [
    "A = np.array([[ 2., 1.,-1.],\n",
    "              [-3.,-1., 2.],\n",
    "              [-2., 1., 2.]])\n",
    "y = np.array([8., -11., -3.])"
   ]
  },
  {
   "cell_type": "markdown",
   "id": "abbcc70e",
   "metadata": {},
   "source": [
    "### Testar a Função de Permutação:"
   ]
  },
  {
   "cell_type": "code",
   "execution_count": 15,
   "id": "072b4521",
   "metadata": {},
   "outputs": [],
   "source": [
    "ba1 = bruno.permut(A, 0)"
   ]
  },
  {
   "cell_type": "code",
   "execution_count": 16,
   "id": "ede479b1",
   "metadata": {},
   "outputs": [
    {
     "name": "stdout",
     "output_type": "stream",
     "text": [
      "I =  \n",
      " [[1. 0. 0.]\n",
      " [0. 1. 0.]\n",
      " [0. 0. 1.]] \n",
      "\n",
      "P1 =  \n",
      " [[0. 1. 0.]\n",
      " [1. 0. 0.]\n",
      " [0. 0. 1.]] \n",
      "\n",
      "A1 =  \n",
      " [[ 2.  1. -1.]\n",
      " [-3. -1.  2.]\n",
      " [-2.  1.  2.]] \n",
      "\n",
      "True\n",
      "True\n",
      "True\n"
     ]
    }
   ],
   "source": [
    "I = np.identity(A.shape[0])\n",
    "print('I = ', '\\n', I, '\\n')\n",
    "P1 = I[[1,0,2]]\n",
    "print('P1 = ', '\\n', P1, '\\n')\n",
    "A1 = P1@A\n",
    "print('A1 = ', '\\n',A1, '\\n')\n",
    "#Tetando se as matrizes são parecidas\n",
    "for r in range(0, len(y)):\n",
    "    print(np.allclose(ba1[1][r][:], A1[r][:], rtol = 1e8))"
   ]
  },
  {
   "cell_type": "code",
   "execution_count": 17,
   "id": "15dccf30",
   "metadata": {},
   "outputs": [
    {
     "name": "stdout",
     "output_type": "stream",
     "text": [
      "I =  \n",
      " [[1. 0. 0.]\n",
      " [0. 1. 0.]\n",
      " [0. 0. 1.]] \n",
      "\n",
      "Perm 2 =  \n",
      " [[-3. -1.  2.]\n",
      " [ 2.  1. -1.]\n",
      " [-2.  1.  2.]] \n",
      "\n",
      "P2 =  \n",
      " [[1. 0. 0.]\n",
      " [0. 0. 1.]\n",
      " [0. 1. 0.]] \n",
      "\n",
      "A2 =  \n",
      " [[-3. -1.  2.]\n",
      " [-2.  1.  2.]\n",
      " [ 2.  1. -1.]] \n",
      "\n",
      "True\n",
      "True\n",
      "True\n"
     ]
    }
   ],
   "source": [
    "ba2 = bruno.permut(A, 1)\n",
    "I = np.identity(A.shape[0])\n",
    "print('I = ', '\\n', I, '\\n')\n",
    "print('Perm 2 = ', '\\n', ba2[1], '\\n')\n",
    "P2 = I[[0,2,1]]\n",
    "print('P2 = ', '\\n', P2, '\\n')\n",
    "A2 = P2@A\n",
    "print('A2 = ', '\\n',A2, '\\n')\n",
    "#Tetando se as matrizes são parecidas\n",
    "for r in range(0, len(y)):\n",
    "    print(np.allclose(ba2[1][r][:], A2[r][:], rtol = 1e8))"
   ]
  },
  {
   "cell_type": "code",
   "execution_count": 18,
   "id": "46d4f078",
   "metadata": {},
   "outputs": [
    {
     "name": "stdout",
     "output_type": "stream",
     "text": [
      "I =  \n",
      " [[1. 0. 0.]\n",
      " [0. 1. 0.]\n",
      " [0. 0. 1.]] \n",
      "\n",
      "Perm 3 =  \n",
      " [[-3. -1.  2.]\n",
      " [-2.  1.  2.]\n",
      " [ 2.  1. -1.]] \n",
      "\n",
      "P3 =  \n",
      " [[0. 1. 0.]\n",
      " [0. 0. 1.]\n",
      " [1. 0. 0.]] \n",
      "\n",
      "A3 =  \n",
      " [[ 2.  1. -1.]\n",
      " [-2.  1.  2.]\n",
      " [-3. -1.  2.]] \n",
      "\n",
      "True\n",
      "True\n",
      "True\n",
      "PP3 =  \n",
      " [0. 1. 0.] \n",
      "\n"
     ]
    }
   ],
   "source": [
    "ba3 = bruno.permut(A2, 1)\n",
    "I = np.identity(A.shape[0])\n",
    "print('I = ', '\\n', I, '\\n')\n",
    "print('Perm 3 = ', '\\n', ba3[1], '\\n')\n",
    "P3 = I[[1,2,0]]\n",
    "print('P3 = ', '\\n', P3, '\\n')\n",
    "A3 = P3@A\n",
    "print('A3 = ', '\\n',A3, '\\n')\n",
    "#Tetando se as matrizes são parecidas\n",
    "for r in range(0, len(y)):\n",
    "    print(np.allclose(ba3[1][r][:], A3[r][:], rtol = 1e8))\n",
    "\n",
    "print('PP3 = ', '\\n',I[ba3[0]], '\\n')"
   ]
  },
  {
   "cell_type": "markdown",
   "id": "57c40811",
   "metadata": {},
   "source": [
    "###### Verifica que a função permut não ficou muito parecido para esse exemplo de matriz $P_n[\\vec{p}]$, uma vez que duas linhas delas são iguais em modulo, pois ele verifica o pivo maximo de cada linha. Indices diferente de zero, ele não permuta. "
   ]
  },
  {
   "cell_type": "markdown",
   "id": "1de679e6",
   "metadata": {},
   "source": [
    "### Crie um sistema linear e seu sistema triangular equivalente manualmente (sem usar Gauss_elim)."
   ]
  },
  {
   "cell_type": "markdown",
   "id": "09f9b507",
   "metadata": {},
   "source": [
    "## Seja o sistema linear Ax = b, onde \n",
    "A =\\begin{bmatrix}\n",
    "2 & 1 & -1 & 2 \\\\\n",
    "4 & 5 & -3 & 6 \\\\\n",
    "-2 & 5 & -2 & 6 \\\\\n",
    "4 & 11 & -4 & 8\n",
    "\\end{bmatrix} \n",
    "b = \\begin{bmatrix}\n",
    "0 \\\\\n",
    "0 \\\\\n",
    "1 \\\\\n",
    "2\n",
    "\\end{bmatrix}\n",
    "## O seu sistema trinangular equivalente é Ux = b_mod\n",
    "U = \\begin{bmatrix}\n",
    "2 & 1 & -1 & 2 \\\\\n",
    "0 & 3 & -1 & 2 \\\\\n",
    "0 & 0 & -1 & 4 \\\\\n",
    "0 & 0 & 0 & 2\n",
    "\\end{bmatrix}\n",
    "\n",
    "b_mod = \\begin{bmatrix}\n",
    "0 \\\\\n",
    "0 \\\\\n",
    "1 \\\\\n",
    "3\n",
    "\\end{bmatrix}"
   ]
  },
  {
   "cell_type": "markdown",
   "id": "60c72161",
   "metadata": {},
   "source": [
    "### Vamos Usar a função Gauss_elim para calcular o sistema triangular equivalente."
   ]
  },
  {
   "cell_type": "code",
   "execution_count": 19,
   "id": "bf30dd46",
   "metadata": {},
   "outputs": [],
   "source": [
    "A =np.array([\n",
    "[2 , 1 , -1 , 2],\n",
    "[4 , 5 , -3 , 6],\n",
    "[-2 , 5 , -2 , 6],\n",
    "[4 , 11 , -4 , 8]])\n",
    "\n",
    "B = np.array([0,0,1,2])\n",
    "\n",
    "U_verdadeiro = np.array([\n",
    "[ 2.,  1., -1.,  2.],\n",
    "[ 0.,  3., -1.,  2.],\n",
    "[ 0.,  0., -1.,  4.],\n",
    "[ 0.,  0.,  0.,  2.]])\n",
    "\n",
    "b_verdadeiro = np.array([0., 0., 1., 3.])"
   ]
  },
  {
   "cell_type": "code",
   "execution_count": 20,
   "id": "2c32a20a",
   "metadata": {},
   "outputs": [],
   "source": [
    "U, b_mod = bruno.Gauss_elim(A, B)"
   ]
  },
  {
   "cell_type": "code",
   "execution_count": 21,
   "id": "dd9d5883",
   "metadata": {},
   "outputs": [
    {
     "data": {
      "text/plain": [
       "array([[ 2.,  1., -1.,  2.],\n",
       "       [ 0.,  3., -1.,  2.],\n",
       "       [ 0.,  0., -1.,  4.],\n",
       "       [ 0.,  0.,  0.,  2.]])"
      ]
     },
     "execution_count": 21,
     "metadata": {},
     "output_type": "execute_result"
    }
   ],
   "source": [
    "U"
   ]
  },
  {
   "cell_type": "code",
   "execution_count": 22,
   "id": "0aa9ddb3",
   "metadata": {},
   "outputs": [
    {
     "data": {
      "text/plain": [
       "array([0., 0., 1., 3.])"
      ]
     },
     "execution_count": 22,
     "metadata": {},
     "output_type": "execute_result"
    }
   ],
   "source": [
    "b_mod"
   ]
  },
  {
   "cell_type": "code",
   "execution_count": 23,
   "id": "81e67952",
   "metadata": {},
   "outputs": [
    {
     "data": {
      "text/plain": [
       "array([0.66666667, 0.66666667, 5.        , 1.5       ])"
      ]
     },
     "execution_count": 23,
     "metadata": {},
     "output_type": "execute_result"
    }
   ],
   "source": [
    "bruno.triangular_superior(U, b_mod)"
   ]
  },
  {
   "cell_type": "code",
   "execution_count": 24,
   "id": "2871c7e2",
   "metadata": {},
   "outputs": [
    {
     "data": {
      "text/plain": [
       "array([0.66666667, 0.66666667, 5.        , 1.5       ])"
      ]
     },
     "execution_count": 24,
     "metadata": {},
     "output_type": "execute_result"
    }
   ],
   "source": [
    "np.linalg.solve(A, B)"
   ]
  },
  {
   "cell_type": "markdown",
   "id": "1db24084",
   "metadata": {},
   "source": [
    "#### Comparando o calculado com o verdadeiro"
   ]
  },
  {
   "cell_type": "code",
   "execution_count": 25,
   "id": "f3b475a6",
   "metadata": {},
   "outputs": [
    {
     "data": {
      "text/plain": [
       "True"
      ]
     },
     "execution_count": 25,
     "metadata": {},
     "output_type": "execute_result"
    }
   ],
   "source": [
    "np.allclose(U_verdadeiro, U)"
   ]
  },
  {
   "cell_type": "code",
   "execution_count": 26,
   "id": "fe4d1719",
   "metadata": {},
   "outputs": [
    {
     "data": {
      "text/plain": [
       "True"
      ]
     },
     "execution_count": 26,
     "metadata": {},
     "output_type": "execute_result"
    }
   ],
   "source": [
    "np.allclose(b_verdadeiro, b_mod)"
   ]
  },
  {
   "cell_type": "markdown",
   "id": "76dbadfc",
   "metadata": {},
   "source": [
    "### Veficando assim, que o sistema calculado bate com o verdadeiro!"
   ]
  },
  {
   "cell_type": "markdown",
   "id": "da6064bb",
   "metadata": {},
   "source": [
    "### Crie uma matriz $A_0$ e um vetor $\\vec{x_0}$ e use-os para calcular um vetor $A_0\\vec{x_0} = \\vec{y_0}$. Então, use a função *Gauss_elim* para calcular o sistema triangular equivalente. Use uma de suas funções para calcular um vetor $\\vec{x1}$ resolvendo o sistema triangular equivalente. Finalmente, compare o vetor calculado $\\vec{x_1}$ e o vetor esperado $\\vec{x_0}$."
   ]
  },
  {
   "cell_type": "code",
   "execution_count": 27,
   "id": "8b4b07dd",
   "metadata": {},
   "outputs": [],
   "source": [
    "A0 = np.array([\n",
    "[2, 4, -2, 4], \n",
    "[1, 5, 5, 11],\n",
    "[-1,-3,-2,-4] , \n",
    "[2, 6, 6, 8]])  \n",
    "\n",
    "x0 = np.array([1,2,3,4])\n",
    "\n",
    "y0 = bruno.matvec_real(A0, x0)"
   ]
  },
  {
   "cell_type": "code",
   "execution_count": 28,
   "id": "553b6cff",
   "metadata": {},
   "outputs": [],
   "source": [
    "U, b_mod = bruno.Gauss_elim(A0, y0)"
   ]
  },
  {
   "cell_type": "code",
   "execution_count": 29,
   "id": "bc944565",
   "metadata": {},
   "outputs": [
    {
     "name": "stdout",
     "output_type": "stream",
     "text": [
      "U: [[ 2.  4. -2.  4.]\n",
      " [ 0.  3.  6.  9.]\n",
      " [ 0.  0. -1.  1.]\n",
      " [ 0.  0.  0.  2.]] \t b_mod:  [20. 60.  1.  8.]\n"
     ]
    }
   ],
   "source": [
    "print('U:',U, '\\t', 'b_mod: ', b_mod)"
   ]
  },
  {
   "cell_type": "code",
   "execution_count": 30,
   "id": "ef850ce6",
   "metadata": {},
   "outputs": [],
   "source": [
    "x1 = bruno.triangular_superior(U, b_mod)"
   ]
  },
  {
   "cell_type": "code",
   "execution_count": 31,
   "id": "a5941cc9",
   "metadata": {},
   "outputs": [
    {
     "name": "stdout",
     "output_type": "stream",
     "text": [
      "True : x0 = x1\n",
      "x1:  [1. 2. 3. 4.]\n"
     ]
    }
   ],
   "source": [
    "######### comparando X1 com X0 (vetor original)\n",
    "print(np.allclose(x0, x1), ': x0 = x1')\n",
    "print('x1: ', x1)"
   ]
  },
  {
   "cell_type": "code",
   "execution_count": null,
   "id": "0d4b51d7",
   "metadata": {},
   "outputs": [],
   "source": []
  },
  {
   "cell_type": "code",
   "execution_count": 32,
   "id": "d35bc6f2",
   "metadata": {},
   "outputs": [],
   "source": [
    "y = bruno.matvec_real(A, x0)"
   ]
  },
  {
   "cell_type": "code",
   "execution_count": 33,
   "id": "22569d3f",
   "metadata": {},
   "outputs": [],
   "source": [
    "U, b, L = bruno.Gauss_elim(A0, y, Mat_L=True)"
   ]
  },
  {
   "cell_type": "code",
   "execution_count": 34,
   "id": "b1861fed",
   "metadata": {},
   "outputs": [
    {
     "data": {
      "text/plain": [
       "array([ 583.83333333, -352.83333333,   49.        ,   87.66666667])"
      ]
     },
     "execution_count": 34,
     "metadata": {},
     "output_type": "execute_result"
    }
   ],
   "source": [
    "bruno.triangular_superior(U, b)"
   ]
  },
  {
   "cell_type": "code",
   "execution_count": 35,
   "id": "da079460",
   "metadata": {},
   "outputs": [
    {
     "data": {
      "text/plain": [
       "array([  9.        ,  24.5       ,  38.66666667, 175.33333333])"
      ]
     },
     "execution_count": 35,
     "metadata": {},
     "output_type": "execute_result"
    }
   ],
   "source": [
    "b"
   ]
  },
  {
   "cell_type": "code",
   "execution_count": 36,
   "id": "0cbcc94f",
   "metadata": {},
   "outputs": [
    {
     "data": {
      "text/plain": [
       "array([[ 2.,  4., -2.,  4.],\n",
       "       [ 0.,  3.,  6.,  9.],\n",
       "       [ 0.,  0., -1.,  1.],\n",
       "       [ 0.,  0.,  0.,  2.]])"
      ]
     },
     "execution_count": 36,
     "metadata": {},
     "output_type": "execute_result"
    }
   ],
   "source": [
    "U"
   ]
  },
  {
   "cell_type": "code",
   "execution_count": 37,
   "id": "d3718d3e",
   "metadata": {},
   "outputs": [
    {
     "name": "stdout",
     "output_type": "stream",
     "text": [
      "[[ 1.          0.          0.          0.        ]\n",
      " [ 0.5         1.          0.          0.        ]\n",
      " [-0.5        -0.33333333  1.          0.        ]\n",
      " [ 1.          0.66666667 -4.          1.        ]]\n"
     ]
    }
   ],
   "source": [
    "print(L)"
   ]
  },
  {
   "cell_type": "code",
   "execution_count": 38,
   "id": "52836b37",
   "metadata": {},
   "outputs": [
    {
     "data": {
      "text/plain": [
       "array([1., 2., 3., 4.])"
      ]
     },
     "execution_count": 38,
     "metadata": {},
     "output_type": "execute_result"
    }
   ],
   "source": [
    "np.linalg.solve(A, y)"
   ]
  },
  {
   "cell_type": "code",
   "execution_count": 39,
   "id": "2fa95867",
   "metadata": {},
   "outputs": [
    {
     "data": {
      "text/plain": [
       "array([  9.        ,  24.5       ,  38.66666667, 175.33333333])"
      ]
     },
     "execution_count": 39,
     "metadata": {},
     "output_type": "execute_result"
    }
   ],
   "source": [
    "x = bruno.triangular_inferior(L, y)\n",
    "x"
   ]
  },
  {
   "cell_type": "code",
   "execution_count": 40,
   "id": "c4d06454",
   "metadata": {},
   "outputs": [
    {
     "data": {
      "text/plain": [
       "array([ 583.83333333, -352.83333333,   49.        ,   87.66666667])"
      ]
     },
     "execution_count": 40,
     "metadata": {},
     "output_type": "execute_result"
    }
   ],
   "source": [
    "bruno.triangular_superior(U, x)"
   ]
  },
  {
   "cell_type": "code",
   "execution_count": 41,
   "id": "8bcb362a",
   "metadata": {},
   "outputs": [
    {
     "data": {
      "text/plain": [
       "array([[ 2.,  4., -2.,  4.],\n",
       "       [ 1.,  5.,  5., 11.],\n",
       "       [-1., -3., -2., -4.],\n",
       "       [ 2.,  6.,  6.,  8.]])"
      ]
     },
     "execution_count": 41,
     "metadata": {},
     "output_type": "execute_result"
    }
   ],
   "source": [
    "L@U"
   ]
  },
  {
   "cell_type": "code",
   "execution_count": null,
   "id": "4dad61e8",
   "metadata": {},
   "outputs": [],
   "source": []
  },
  {
   "cell_type": "code",
   "execution_count": null,
   "id": "68d228d3",
   "metadata": {},
   "outputs": [],
   "source": []
  },
  {
   "cell_type": "markdown",
   "id": "eee98a54",
   "metadata": {},
   "source": [
    "### Tentando fazer por pivotamento (Troca de linhas)."
   ]
  },
  {
   "cell_type": "code",
   "execution_count": 42,
   "id": "c0171f3d",
   "metadata": {},
   "outputs": [],
   "source": [
    "def permut(C, i):\n",
    "    \"\"\"\n",
    "    Função de permutação para realizar a troca de linhas, garantindo que o pivô seja o maior valor absoluto.\n",
    "    \n",
    "    Parâmetros:\n",
    "    -----------\n",
    "    C : numpy.ndarray\n",
    "        Matriz aumentada (A e y empilhados).\n",
    "    \n",
    "    i : int\n",
    "        Índice atual do passo da eliminação.\n",
    "    \n",
    "    Retorna:\n",
    "    --------\n",
    "    p : list\n",
    "        Vetor de permutação.\n",
    "    \n",
    "    C : numpy.ndarray\n",
    "        Matriz C com as linhas permutadas.\n",
    "    \"\"\"\n",
    "    # Vetor de índices de permutação\n",
    "    p = [j for j in range(C.shape[0])]\n",
    "    \n",
    "    # Encontra o índice do maior valor absoluto na coluna i a partir da linha i\n",
    "    imax = i + np.argmax(np.abs(C[i:, i]))\n",
    "    \n",
    "    # Se o maior valor não estiver na linha atual, troca as linhas\n",
    "    if imax != i:\n",
    "        p[i], p[imax] = p[imax], p[i]\n",
    "    \n",
    "    # Retorna o vetor de permutação e a matriz permutada\n",
    "    return p, C[p, :]\n",
    "\n",
    "def Gauss_elim(A, y, check_input=True):\n",
    "    \"\"\"\n",
    "    Executa a eliminação Gaussiana com pivotamento parcial para resolver o sistema Ax = y.\n",
    "    \n",
    "    Parâmetros:\n",
    "    -----------\n",
    "    A : numpy.ndarray\n",
    "        Matriz quadrada do sistema linear.\n",
    "    \n",
    "    y : numpy.ndarray\n",
    "        Vetor independente do sistema linear.\n",
    "    \n",
    "    check_input : boolean, opcional\n",
    "        Se True, verifica se as entradas são válidas. O padrão é True.\n",
    "    \n",
    "    Retorna:\n",
    "    --------\n",
    "    Uper : numpy.ndarray\n",
    "        Matriz triangular superior do sistema equivalente.\n",
    "    \n",
    "    b_mod : numpy.ndarray\n",
    "        Vetor independente modificado após a eliminação.\n",
    "    \"\"\"\n",
    "    N = A.shape[0]  # Número de linhas/colunas da matriz A\n",
    "    \n",
    "    if check_input is True:\n",
    "        assert A.ndim == 2, 'A deve ser uma matriz'\n",
    "        assert y.ndim == 1, 'y deve ser um vetor'\n",
    "        assert A.shape[1] == N, 'A deve ser quadrada'\n",
    "        assert y.size == N, 'O tamanho de y deve ser igual ao número de colunas de A'\n",
    "    \n",
    "    # Cria a matriz C empilhando A e y como uma matriz aumentada\n",
    "    C = np.hstack((A, y.reshape(-1, 1)))\n",
    "\n",
    "    for k in range(N - 1):\n",
    "        # Passo de permutação para garantir que o maior pivô esteja na linha atual\n",
    "        p, C = permut(C, k)\n",
    "        \n",
    "        # Verifica se o pivô não é zero\n",
    "        assert C[k, k] != 0., 'Pivô nulo encontrado!'\n",
    "        \n",
    "        # Calcula os multiplicadores de Gauss e armazena na parte inferior da coluna\n",
    "        C[k + 1:, k] = C[k + 1:, k] / C[k, k]\n",
    "        \n",
    "        # Zera os elementos da coluna abaixo do pivô\n",
    "        C[k+1:, k+1:] -=  np.outer(C[k + 1:, k], C[k, k + 1:])\n",
    "    \n",
    "    # Retorna a matriz triangular superior e o vetor independente modificado\n",
    "    return C[:, :N], C[:, N]"
   ]
  },
  {
   "cell_type": "code",
   "execution_count": 43,
   "id": "d8d68ab8",
   "metadata": {},
   "outputs": [],
   "source": [
    "U, b = Gauss_elim(A, y)"
   ]
  },
  {
   "cell_type": "code",
   "execution_count": 44,
   "id": "67596b78",
   "metadata": {},
   "outputs": [
    {
     "data": {
      "text/plain": [
       "array([[ 4.        ,  5.        , -3.        ,  6.        ],\n",
       "       [-0.5       ,  7.5       , -3.5       ,  9.        ],\n",
       "       [ 1.        ,  0.8       ,  1.8       , -5.2       ],\n",
       "       [ 0.5       , -0.2       , -0.11111111,  0.22222222]])"
      ]
     },
     "execution_count": 44,
     "metadata": {},
     "output_type": "execute_result"
    }
   ],
   "source": [
    "U"
   ]
  },
  {
   "cell_type": "code",
   "execution_count": 45,
   "id": "e3a45a06",
   "metadata": {},
   "outputs": [
    {
     "data": {
      "text/plain": [
       "array([ 29.        ,  40.5       , -15.4       ,   0.88888889])"
      ]
     },
     "execution_count": 45,
     "metadata": {},
     "output_type": "execute_result"
    }
   ],
   "source": [
    "b"
   ]
  },
  {
   "cell_type": "markdown",
   "id": "05fb5cd2",
   "metadata": {},
   "source": [
    "##### Vemos um erro na solução, pois o U n é um triangular superior"
   ]
  },
  {
   "cell_type": "code",
   "execution_count": 296,
   "id": "f1c10a27",
   "metadata": {},
   "outputs": [],
   "source": [
    "def Gauss_elim(A, x, check_input=True, low=False):\n",
    "    \"\"\"\n",
    "    Executa a eliminação Gaussiana em uma matriz quadrada A e vetor x para resolver o sistema linear Ax = b.\n",
    "    \n",
    "    Parâmetros:\n",
    "    -----------\n",
    "    A : np.ndarray\n",
    "        Matriz quadrada 2D (NxN) representando os coeficientes do sistema linear.\n",
    "        \n",
    "    x : np.ndarray\n",
    "        Vetor 1D (N) representando o vetor do lado direito do sistema Ax = b.\n",
    "        \n",
    "    check_input : bool, opcional\n",
    "        Se True, verifica se as entradas são válidas, incluindo a verificação de que A é uma matriz 2D \n",
    "        e x é um vetor 1D, além de garantir que ambos contenham apenas números reais. \n",
    "        O padrão é True.\n",
    "    \n",
    "    Retornos:\n",
    "    ---------\n",
    "    Uper : np.ndarray\n",
    "        Matriz 2D (NxN) resultante da eliminação Gaussiana, onde Uper é a matriz triangular superior.\n",
    "    \n",
    "    b : np.ndarray\n",
    "        Vetor 1D (N) modificado correspondente ao vetor do lado direito após a eliminação Gaussiana.\n",
    "    \n",
    "    L : np.ndarray, opcional\n",
    "        Matriz 2D (NxN) resultante dos multiplicadores de Gauss, onde L é a matriz triangular inferior.\n",
    "    \"\"\"\n",
    "    N = A.shape[0]  # Número de linhas\n",
    "    Uper = np.copy(A)\n",
    "    b = np.copy(x)\n",
    "    I = np.identity(N)\n",
    "    L = np.identity(N)  # L inicia como identidade\n",
    "    P = np.identity(N)\n",
    "    \n",
    "    if check_input:\n",
    "        assert isinstance(A, np.ndarray) and A.ndim == 2, 'A deve ser uma matriz 2D'\n",
    "        assert isinstance(x, np.ndarray) and b.ndim == 1, 'x deve ser um vetor 1D'\n",
    "        # Verifica se A e b contêm apenas números reais\n",
    "        assert np.isrealobj(A), 'A deve conter apenas números reais'\n",
    "        assert np.isrealobj(x), 'x deve conter apenas números reais'\n",
    "\n",
    "    for k in range(N - 1):\n",
    "        # Criação do vetor u_k\n",
    "        u_k = np.zeros(N)\n",
    "        u_k[k] = 1\n",
    "        \n",
    "        # Pivotamento\n",
    "        p, Uper = permut(Uper, k)\n",
    "        b = b[p]  # Reordena o vetor b de acordo com a permutação\n",
    "        P = P[p, :]  # Acumula a permutação na matriz P\n",
    "        \n",
    "        assert Uper[k, k] != 0., 'Pivô nulo encontrado!'\n",
    "        \n",
    "        # Criação do vetor t_k\n",
    "        t_k = np.zeros(N)\n",
    "        for i in range(k + 1, N):\n",
    "            t_k[i] = Uper[i, k] / Uper[k, k]\n",
    "\n",
    "        # Calcula a matriz M e faz a atualização\n",
    "        M = bruno.outer_real(t_k, u_k)\n",
    "        Uper = bruno.matmat_real_dot(I - M, Uper)\n",
    "        b = bruno.matvec_real_simple(I - M, b)\n",
    "\n",
    "        # Acumula as operações de eliminação para construir a matriz L\n",
    "        L = bruno.matmat_real_dot(L, I + M)\n",
    "\n",
    "    if low == False:\n",
    "        return Uper, b, P\n",
    "    else:\n",
    "        return Uper, b, P, L, p"
   ]
  },
  {
   "cell_type": "code",
   "execution_count": 297,
   "id": "e2f8aa3c",
   "metadata": {},
   "outputs": [],
   "source": [
    "U, b, P, L, p= Gauss_elim(A0, y0, low=True)"
   ]
  },
  {
   "cell_type": "code",
   "execution_count": 298,
   "id": "794f02db",
   "metadata": {},
   "outputs": [
    {
     "data": {
      "text/plain": [
       "array([[ 2. ,  4. , -2. ,  4. ],\n",
       "       [ 0. ,  3. ,  6. ,  9. ],\n",
       "       [ 0. ,  0. ,  4. , -2. ],\n",
       "       [ 0. ,  0. ,  0. ,  0.5]])"
      ]
     },
     "execution_count": 298,
     "metadata": {},
     "output_type": "execute_result"
    }
   ],
   "source": [
    "U"
   ]
  },
  {
   "cell_type": "code",
   "execution_count": 299,
   "id": "e0e34d49",
   "metadata": {},
   "outputs": [
    {
     "data": {
      "text/plain": [
       "array([[ 1.        ,  0.        ,  0.        ,  0.        ],\n",
       "       [ 0.5       ,  1.        ,  0.        ,  0.        ],\n",
       "       [-0.5       , -0.33333333,  1.        ,  0.        ],\n",
       "       [ 1.        ,  0.66666667, -0.25      ,  1.        ]])"
      ]
     },
     "execution_count": 299,
     "metadata": {},
     "output_type": "execute_result"
    }
   ],
   "source": [
    "L"
   ]
  },
  {
   "cell_type": "markdown",
   "id": "56c0df34",
   "metadata": {},
   "source": [
    "#### Para o sistema $$Ax =b $$ onde P é uma matriz de permutação $$PA = LU $$ e assim $LUx = Pb$"
   ]
  },
  {
   "cell_type": "code",
   "execution_count": 300,
   "id": "92f25320",
   "metadata": {},
   "outputs": [
    {
     "data": {
      "text/plain": [
       "array([[ True, False, False, False],\n",
       "       [False,  True, False, False],\n",
       "       [False, False, False, False],\n",
       "       [False, False, False, False]])"
      ]
     },
     "execution_count": 300,
     "metadata": {},
     "output_type": "execute_result"
    }
   ],
   "source": [
    "P@A == L@U"
   ]
  },
  {
   "cell_type": "code",
   "execution_count": 301,
   "id": "48e3b4a5",
   "metadata": {},
   "outputs": [
    {
     "data": {
      "text/plain": [
       "array([[1., 0., 0., 0.],\n",
       "       [0., 1., 0., 0.],\n",
       "       [0., 0., 0., 1.],\n",
       "       [0., 0., 1., 0.]])"
      ]
     },
     "execution_count": 301,
     "metadata": {},
     "output_type": "execute_result"
    }
   ],
   "source": [
    "P"
   ]
  },
  {
   "cell_type": "code",
   "execution_count": 302,
   "id": "06a991b1",
   "metadata": {},
   "outputs": [
    {
     "data": {
      "text/plain": [
       "array([[1., 0., 0., 0.],\n",
       "       [0., 1., 0., 0.],\n",
       "       [0., 0., 0., 1.],\n",
       "       [0., 0., 1., 0.]])"
      ]
     },
     "execution_count": 302,
     "metadata": {},
     "output_type": "execute_result"
    }
   ],
   "source": [
    "P_novo = np.identity(A.shape[0])\n",
    "P_novo = P_novo[[0,1,3, 2]]\n",
    "P_novo"
   ]
  },
  {
   "cell_type": "code",
   "execution_count": 303,
   "id": "6f2a6079",
   "metadata": {},
   "outputs": [
    {
     "data": {
      "text/plain": [
       "array([[ 2.,  1., -1.,  2.],\n",
       "       [ 4.,  5., -3.,  6.],\n",
       "       [ 4., 11., -4.,  8.],\n",
       "       [-2.,  5., -2.,  6.]])"
      ]
     },
     "execution_count": 303,
     "metadata": {},
     "output_type": "execute_result"
    }
   ],
   "source": [
    "P_novo@A "
   ]
  },
  {
   "cell_type": "code",
   "execution_count": 304,
   "id": "d3bd3210-22c5-478d-b44c-1e7f06bbdc2e",
   "metadata": {},
   "outputs": [
    {
     "data": {
      "text/plain": [
       "array([[ 2,  1, -1,  2],\n",
       "       [ 4,  5, -3,  6],\n",
       "       [-2,  5, -2,  6],\n",
       "       [ 4, 11, -4,  8]])"
      ]
     },
     "execution_count": 304,
     "metadata": {},
     "output_type": "execute_result"
    }
   ],
   "source": [
    "A "
   ]
  },
  {
   "cell_type": "code",
   "execution_count": 305,
   "id": "a07212b8-1922-4692-8253-32d0f9df57ec",
   "metadata": {},
   "outputs": [
    {
     "data": {
      "text/plain": [
       "array([[ 2.,  4., -2.,  4.],\n",
       "       [ 1.,  5.,  5., 11.],\n",
       "       [-1., -3.,  3., -7.],\n",
       "       [ 2.,  6.,  1., 11.]])"
      ]
     },
     "execution_count": 305,
     "metadata": {},
     "output_type": "execute_result"
    }
   ],
   "source": [
    "L@U"
   ]
  },
  {
   "cell_type": "code",
   "execution_count": 306,
   "id": "604fc38f",
   "metadata": {},
   "outputs": [
    {
     "data": {
      "text/plain": [
       "array([[1., 0., 0., 0.],\n",
       "       [0., 1., 0., 0.],\n",
       "       [0., 0., 0., 1.],\n",
       "       [0., 0., 1., 0.]])"
      ]
     },
     "execution_count": 306,
     "metadata": {},
     "output_type": "execute_result"
    }
   ],
   "source": [
    "P_novo = P_novo[[0,1,2, 3]]\n",
    "P_novo"
   ]
  },
  {
   "cell_type": "code",
   "execution_count": 307,
   "id": "586e163b",
   "metadata": {},
   "outputs": [
    {
     "data": {
      "text/plain": [
       "array([[ True, False, False, False],\n",
       "       [False,  True, False, False],\n",
       "       [False, False, False, False],\n",
       "       [False, False, False, False]])"
      ]
     },
     "execution_count": 307,
     "metadata": {},
     "output_type": "execute_result"
    }
   ],
   "source": [
    "P_novo.T@A == L@U"
   ]
  },
  {
   "cell_type": "code",
   "execution_count": 308,
   "id": "5f6f0dd2",
   "metadata": {},
   "outputs": [],
   "source": [
    "########################"
   ]
  },
  {
   "cell_type": "code",
   "execution_count": 328,
   "id": "1f2bfa6f",
   "metadata": {},
   "outputs": [],
   "source": [
    "U, b, P, L,p = Gauss_elim(A, y0,low=True)"
   ]
  },
  {
   "cell_type": "code",
   "execution_count": 329,
   "id": "3f9f8064",
   "metadata": {},
   "outputs": [
    {
     "data": {
      "text/plain": [
       "array([[ 2. ,  4. , -2. ,  4. ],\n",
       "       [ 0. ,  3. ,  6. ,  9. ],\n",
       "       [ 0. ,  0. ,  4. , -2. ],\n",
       "       [ 0. ,  0. ,  0. ,  0.5]])"
      ]
     },
     "execution_count": 329,
     "metadata": {},
     "output_type": "execute_result"
    }
   ],
   "source": [
    "U"
   ]
  },
  {
   "cell_type": "code",
   "execution_count": 330,
   "id": "0ab78b72",
   "metadata": {},
   "outputs": [
    {
     "data": {
      "text/plain": [
       "array([[ 1.        ,  0.        ,  0.        ,  0.        ],\n",
       "       [ 0.5       ,  1.        ,  0.        ,  0.        ],\n",
       "       [-0.5       , -0.33333333,  1.        ,  0.        ],\n",
       "       [ 1.        ,  0.66666667, -0.25      ,  1.        ]])"
      ]
     },
     "execution_count": 330,
     "metadata": {},
     "output_type": "execute_result"
    }
   ],
   "source": [
    "L"
   ]
  },
  {
   "cell_type": "code",
   "execution_count": 338,
   "id": "ea79f104",
   "metadata": {},
   "outputs": [
    {
     "data": {
      "text/plain": [
       "array([ True,  True, False, False])"
      ]
     },
     "execution_count": 338,
     "metadata": {},
     "output_type": "execute_result"
    }
   ],
   "source": [
    "bruno.triangular_inferior(L, y0) == b[p]"
   ]
  },
  {
   "cell_type": "code",
   "execution_count": 336,
   "id": "6daac346",
   "metadata": {},
   "outputs": [
    {
     "data": {
      "text/plain": [
       "array([ 26.5, -14.5,   4.5,   8.5])"
      ]
     },
     "execution_count": 336,
     "metadata": {},
     "output_type": "execute_result"
    }
   ],
   "source": [
    "bruno.triangular_superior(U, bruno.triangular_inferior(L, y0))"
   ]
  },
  {
   "cell_type": "code",
   "execution_count": 337,
   "id": "b3d914cd-dd46-4fa8-8b02-5f071aeedb90",
   "metadata": {},
   "outputs": [
    {
     "data": {
      "text/plain": [
       "array([[ True,  True,  True,  True],\n",
       "       [ True,  True,  True,  True],\n",
       "       [ True,  True,  True,  True],\n",
       "       [ True,  True,  True,  True]])"
      ]
     },
     "execution_count": 337,
     "metadata": {},
     "output_type": "execute_result"
    }
   ],
   "source": [
    "A[p] == L@U"
   ]
  },
  {
   "cell_type": "code",
   "execution_count": 339,
   "id": "109bd4c5-4079-49a9-a7e4-012ba7da6a21",
   "metadata": {},
   "outputs": [
    {
     "data": {
      "text/plain": [
       "array([20.  , 60.  ,  1.  ,  4.25])"
      ]
     },
     "execution_count": 339,
     "metadata": {},
     "output_type": "execute_result"
    }
   ],
   "source": [
    "bruno.triangular_inferior(L, y0)"
   ]
  },
  {
   "cell_type": "code",
   "execution_count": 341,
   "id": "ab138cf6-b818-4d1a-ba8a-eaef08975b85",
   "metadata": {},
   "outputs": [
    {
     "data": {
      "text/plain": [
       "array([20., 60.,  2.,  4.])"
      ]
     },
     "execution_count": 341,
     "metadata": {},
     "output_type": "execute_result"
    }
   ],
   "source": [
    "b[p]"
   ]
  },
  {
   "cell_type": "code",
   "execution_count": 344,
   "id": "0ff78efa-9dac-4269-809a-e46271581b2c",
   "metadata": {},
   "outputs": [
    {
     "data": {
      "text/plain": [
       "array([ True,  True, False,  True])"
      ]
     },
     "execution_count": 344,
     "metadata": {},
     "output_type": "execute_result"
    }
   ],
   "source": [
    "np.round(bruno.triangular_inferior(L, y0), 0) == b[p]"
   ]
  },
  {
   "cell_type": "code",
   "execution_count": 345,
   "id": "90cc26f0-87ef-41c6-8cc1-442ab594b702",
   "metadata": {},
   "outputs": [
    {
     "data": {
      "text/plain": [
       "array([20., 60.,  1.,  4.])"
      ]
     },
     "execution_count": 345,
     "metadata": {},
     "output_type": "execute_result"
    }
   ],
   "source": [
    "np.round(bruno.triangular_inferior(L, y0), 0)"
   ]
  },
  {
   "cell_type": "code",
   "execution_count": null,
   "id": "c492c59a-71ca-4bfb-8001-91a31e6feec3",
   "metadata": {},
   "outputs": [],
   "source": []
  }
 ],
 "metadata": {
  "kernelspec": {
   "display_name": "Python 3 (ipykernel)",
   "language": "python",
   "name": "python3"
  },
  "language_info": {
   "codemirror_mode": {
    "name": "ipython",
    "version": 3
   },
   "file_extension": ".py",
   "mimetype": "text/x-python",
   "name": "python",
   "nbconvert_exporter": "python",
   "pygments_lexer": "ipython3",
   "version": "3.12.4"
  }
 },
 "nbformat": 4,
 "nbformat_minor": 5
}
