{
 "cells": [
  {
   "cell_type": "markdown",
   "id": "4e551e2c-4b82-40ea-8ac4-b738c4e676d3",
   "metadata": {},
   "source": [
    "## Decomposição LU"
   ]
  },
  {
   "cell_type": "code",
   "execution_count": 1,
   "id": "389c240e",
   "metadata": {},
   "outputs": [],
   "source": [
    "import bruno\n",
    "import numpy as np"
   ]
  },
  {
   "cell_type": "code",
   "execution_count": 2,
   "id": "839a312c",
   "metadata": {},
   "outputs": [],
   "source": [
    "A = np.array([[5, 15, 40, 5],\n",
    "            [20, 10, 30, 15],\n",
    "            [1, 5, 3, 9],\n",
    "            [3, 15, 40, 20]])\n",
    "d = np.array([1,0,5,3])"
   ]
  },
  {
   "cell_type": "code",
   "execution_count": 3,
   "id": "7db66e9f",
   "metadata": {},
   "outputs": [],
   "source": [
    "C = bruno.lu_decomp(A, d)"
   ]
  },
  {
   "cell_type": "code",
   "execution_count": 4,
   "id": "d0492151",
   "metadata": {},
   "outputs": [],
   "source": [
    "x = bruno.lu_solve(C, d )"
   ]
  },
  {
   "cell_type": "code",
   "execution_count": 5,
   "id": "8a64ce79",
   "metadata": {},
   "outputs": [
    {
     "data": {
      "text/plain": [
       "array([ 1.00000000e+00, -3.55271368e-15,  5.00000000e+00,  3.00000000e+00])"
      ]
     },
     "execution_count": 5,
     "metadata": {},
     "output_type": "execute_result"
    }
   ],
   "source": [
    "A@x"
   ]
  },
  {
   "cell_type": "code",
   "execution_count": 6,
   "id": "0f6bf580",
   "metadata": {},
   "outputs": [
    {
     "data": {
      "text/plain": [
       "True"
      ]
     },
     "execution_count": 6,
     "metadata": {},
     "output_type": "execute_result"
    }
   ],
   "source": [
    "np.allclose(d, A@x, rtol = 10) # tolerancia de 10 casa deciamis"
   ]
  },
  {
   "cell_type": "code",
   "execution_count": 7,
   "id": "53f9770e",
   "metadata": {},
   "outputs": [
    {
     "name": "stdout",
     "output_type": "stream",
     "text": [
      "d:  [1 0 5 3]  &  [ 1. -0.  5.  3.]\n"
     ]
    }
   ],
   "source": [
    "print('d: ', d, ' & ', np.round(A@x))"
   ]
  },
  {
   "cell_type": "markdown",
   "id": "d1c605e6",
   "metadata": {},
   "source": [
    "#### Verificando se A = LU "
   ]
  },
  {
   "cell_type": "code",
   "execution_count": 8,
   "id": "b7b60317",
   "metadata": {},
   "outputs": [
    {
     "data": {
      "text/plain": [
       "array([[ 5., 15., 40.,  5.],\n",
       "       [20., 10., 30., 15.],\n",
       "       [ 1.,  5.,  3.,  9.],\n",
       "       [ 3., 15., 40., 20.]])"
      ]
     },
     "execution_count": 8,
     "metadata": {},
     "output_type": "execute_result"
    }
   ],
   "source": [
    "A_calc = bruno.matmat_real_dot(C[0], C[1]) # C[0] = L, C[1]  = U\n",
    "A_calc"
   ]
  },
  {
   "cell_type": "code",
   "execution_count": 9,
   "id": "e7f44344",
   "metadata": {},
   "outputs": [
    {
     "data": {
      "text/plain": [
       "True"
      ]
     },
     "execution_count": 9,
     "metadata": {},
     "output_type": "execute_result"
    }
   ],
   "source": [
    "np.allclose(A_calc, A, rtol = 20) # Tolerancia de 20 casa decimais"
   ]
  },
  {
   "cell_type": "markdown",
   "id": "e5e9f0fb",
   "metadata": {},
   "source": [
    "#### Comparando a solução do sistema linear obtido através de  lu_solve com o  numpy.linalg.solve"
   ]
  },
  {
   "cell_type": "code",
   "execution_count": 10,
   "id": "d854e88b",
   "metadata": {},
   "outputs": [
    {
     "data": {
      "text/plain": [
       "True"
      ]
     },
     "execution_count": 10,
     "metadata": {},
     "output_type": "execute_result"
    }
   ],
   "source": [
    "np.allclose(np.linalg.solve(A, d), x) #tolerancia 1e8"
   ]
  },
  {
   "cell_type": "code",
   "execution_count": 11,
   "id": "209c6c6d",
   "metadata": {},
   "outputs": [
    {
     "name": "stdout",
     "output_type": "stream",
     "text": [
      "x_numpy: [-0.05633803  1.         -0.35868545  0.1258216 ]  &  x_calculado: [-0.05633803  1.         -0.35868545  0.1258216 ]\n"
     ]
    }
   ],
   "source": [
    "print('x_numpy:', np.linalg.solve(A, d), ' & ', 'x_calculado:', x)"
   ]
  },
  {
   "cell_type": "markdown",
   "id": "95519708",
   "metadata": {},
   "source": [
    "### usando um exemplo randomico "
   ]
  },
  {
   "cell_type": "code",
   "execution_count": 12,
   "id": "88d77dcd",
   "metadata": {},
   "outputs": [],
   "source": [
    "# Define o tamanho da matriz\n",
    "n = 4\n",
    "\n",
    "# Gera uma matriz quadrada nxn com elementos inteiros aleatórios entre -10 e 10\n",
    "B = np.random.randint(-10, 11, size=(n, n))\n",
    "\n",
    "# Gera um vetor coluna nx1 com elementos inteiros aleatórios entre -10 e 10\n",
    "f = np.random.randint(-10, 11, size=n)"
   ]
  },
  {
   "cell_type": "code",
   "execution_count": 13,
   "id": "bbd63ce3",
   "metadata": {},
   "outputs": [
    {
     "data": {
      "text/plain": [
       "array([-0.8, -1.2,  0.2,  0.6])"
      ]
     },
     "execution_count": 13,
     "metadata": {},
     "output_type": "execute_result"
    }
   ],
   "source": [
    "z = bruno.lu_decomp(B, f)\n",
    "w = bruno.lu_solve(z, f)\n",
    "w"
   ]
  },
  {
   "cell_type": "code",
   "execution_count": 14,
   "id": "2d85699d",
   "metadata": {},
   "outputs": [
    {
     "data": {
      "text/plain": [
       "array([-5,  3,  7, -8])"
      ]
     },
     "execution_count": 14,
     "metadata": {},
     "output_type": "execute_result"
    }
   ],
   "source": [
    "f"
   ]
  },
  {
   "cell_type": "code",
   "execution_count": 15,
   "id": "8263a358",
   "metadata": {},
   "outputs": [
    {
     "data": {
      "text/plain": [
       "array([[  8,  -4,   1,  -6],\n",
       "       [ -9,  -1,   0,  -9],\n",
       "       [ -2,  -9,   3, -10],\n",
       "       [ -2,  10,   9,   1]])"
      ]
     },
     "execution_count": 15,
     "metadata": {},
     "output_type": "execute_result"
    }
   ],
   "source": [
    "B"
   ]
  },
  {
   "cell_type": "code",
   "execution_count": 16,
   "id": "56aee356",
   "metadata": {},
   "outputs": [
    {
     "data": {
      "text/plain": [
       "array([-0.8, -1.2,  0.2,  0.6])"
      ]
     },
     "execution_count": 16,
     "metadata": {},
     "output_type": "execute_result"
    }
   ],
   "source": [
    "np.linalg.solve(B, f)"
   ]
  },
  {
   "cell_type": "code",
   "execution_count": 17,
   "id": "5deea6fa",
   "metadata": {},
   "outputs": [
    {
     "data": {
      "text/plain": [
       "array([-5.,  3.,  7., -8.])"
      ]
     },
     "execution_count": 17,
     "metadata": {},
     "output_type": "execute_result"
    }
   ],
   "source": [
    "B@w"
   ]
  },
  {
   "cell_type": "markdown",
   "id": "a14bec63",
   "metadata": {},
   "source": [
    "### Definindo A0, x0, onde y0 = A0x0"
   ]
  },
  {
   "cell_type": "code",
   "execution_count": 18,
   "id": "7f498be0",
   "metadata": {},
   "outputs": [
    {
     "name": "stdout",
     "output_type": "stream",
     "text": [
      "Vetor original x0: [1 2 3 4]\n",
      "Vetor calculado x1: [1. 2. 3. 4.]\n"
     ]
    },
    {
     "data": {
      "text/plain": [
       "True"
      ]
     },
     "execution_count": 18,
     "metadata": {},
     "output_type": "execute_result"
    }
   ],
   "source": [
    "# Definindo a matriz A0 e o vetor x0\n",
    "A0 = np.array([[4, 3, 0, 0],\n",
    "               [3, 4, -1, 0],\n",
    "               [0, -1, 4, 3],\n",
    "               [0, 0, 3, 4]])\n",
    "\n",
    "x0 = np.array([1, 2, 3, 4])\n",
    "\n",
    "# Calculando o vetor y0\n",
    "y0 = bruno.matvec_dot(A0, x0)\n",
    "\n",
    "# Usando a função lu_decomp para obter L e U\n",
    "C = bruno.lu_decomp(A0, y0)\n",
    "\n",
    "# Usando a função lu_solve para resolver o sistema LUx = y0\n",
    "x1 = bruno.lu_solve(C, y0)\n",
    "\n",
    "# Comparando o vetor x1 com o vetor esperado x0\n",
    "print(\"Vetor original x0:\", x0)\n",
    "print(\"Vetor calculado x1:\", x1)\n",
    "\n",
    "# Verificando se x0 e x1 são iguais dentro de uma tolerância\n",
    "tolerancia = 1e-9\n",
    "np.allclose(x0, x1, atol=tolerancia)"
   ]
  }
 ],
 "metadata": {
  "kernelspec": {
   "display_name": "Python 3 (ipykernel)",
   "language": "python",
   "name": "python3"
  },
  "language_info": {
   "codemirror_mode": {
    "name": "ipython",
    "version": 3
   },
   "file_extension": ".py",
   "mimetype": "text/x-python",
   "name": "python",
   "nbconvert_exporter": "python",
   "pygments_lexer": "ipython3",
   "version": "3.12.4"
  }
 },
 "nbformat": 4,
 "nbformat_minor": 5
}
