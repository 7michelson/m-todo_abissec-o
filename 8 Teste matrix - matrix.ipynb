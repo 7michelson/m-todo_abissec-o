{
 "cells": [
  {
   "cell_type": "markdown",
   "id": "b6ff80f5-c230-447f-85e1-3b200fa8ebf6",
   "metadata": {},
   "source": [
    "# Matriz - Matriz"
   ]
  },
  {
   "cell_type": "code",
   "execution_count": 1,
   "id": "e3a91a31",
   "metadata": {},
   "outputs": [],
   "source": [
    "import bruno\n",
    "import numpy as np\n",
    "\n",
    "def teste_matmat_real_entrada_diferente():\n",
    "    try:\n",
    "        A = np.array([[1, 2], [3, 4]])\n",
    "        B = np.array([[1, 2, 3]])\n",
    "        resultado = bruno.matmat_real_simple(A, B)\n",
    "        print(\"teste_matmat_real_entrada_diferente falhou\")\n",
    "    except AssertionError:\n",
    "        print(\"teste_matmat_real_entrada_diferente passou\")\n",
    "\n",
    "def teste_matmat_real_funcoes_comparar_numpy_dot():\n",
    "    A = np.random.rand(3, 4)\n",
    "    B = np.random.rand(4, 5)\n",
    "\n",
    "    resultado_simples = bruno.matmat_real_simple(A, B)\n",
    "    resultado_dot = np.dot(A, B)\n",
    "    \n",
    "    print(resultado_simples)\n",
    "    print(resultado_dot)\n",
    "    \n",
    "    if np.allclose(resultado_simples, resultado_dot):\n",
    "        print(\"teste_matmat_real_funcoes_comparar_numpy_dot passou\")\n",
    "    else:\n",
    "        print(\"teste_matmat_real_funcoes_comparar_numpy_dot falhou\")\n",
    "\n",
    "def teste_matmat_real_funcoes_ignorar_complexo():\n",
    "    A = np.array([[1, 2], [3, 4]])\n",
    "    B = np.array([[5, 6], [7, 8]])\n",
    "    resultado_simples = bruno.matmat_real_simple(A, B)\n",
    "    resultado_dot = np.dot(A, B)\n",
    "    \n",
    "    print(resultado_simples)\n",
    "    print(resultado_dot)\n",
    "    \n",
    "    if np.allclose(resultado_simples, resultado_dot):\n",
    "        print(\"teste_matmat_real_funcoes_ignorar_complexo passou\")\n",
    "    else:\n",
    "        print(\"teste_matmat_real_funcoes_ignorar_complexo falhou\")\n",
    "\n",
    "def teste_matmat_complexo_comparar_numpy_dot():\n",
    "    A = np.random.rand(3, 4) + 1j * np.random.rand(3, 4)\n",
    "    B = np.random.rand(4, 5) + 1j * np.random.rand(4, 5)\n",
    "\n",
    "    resultado_complexo = bruno.matmat_complex(A, B)\n",
    "    resultado_dot = np.dot(A, B)\n",
    "    \n",
    "    print(resultado_complexo)\n",
    "    print(resultado_dot)\n",
    "    \n",
    "    if np.allclose(resultado_complexo, resultado_dot):\n",
    "        print(\"teste_matmat_complexo_comparar_numpy_dot passou\")\n",
    "    else:\n",
    "        print(\"teste_matmat_complexo_comparar_numpy_dot falhou\")\n",
    "\n",
    "def teste_matmat_complexo_funcao_invalida():\n",
    "    try:\n",
    "        A = np.array([[1 + 1j, 2 + 2j], [3 + 3j, 4 + 4j]])\n",
    "        B = np.array([[5 + 5j, 6 + 6j], [7 + 7j, 8 + 8j]])\n",
    "        # Fornece uma entrada inválida ao passar uma matriz não compatível\n",
    "        C = np.array([[1 + 1j, 2 + 2j, 3 + 3j]])  # Dimensões incompatíveis para multiplicação\n",
    "        resultado = bruno.matmat_complex(A, C)\n",
    "        print(resultado)\n",
    "        print(\"teste_matmat_complexo_funcao_invalida falhou\")\n",
    "    except AssertionError:\n",
    "        print(\"teste_matmat_complexo_funcao_invalida passou\")\n",
    "    except Exception as e:\n",
    "        print(f\"teste_matmat_complexo_funcao_invalida falhou com exceção: {e}\")"
   ]
  },
  {
   "cell_type": "code",
   "execution_count": 2,
   "id": "997d6b8a",
   "metadata": {},
   "outputs": [
    {
     "name": "stdout",
     "output_type": "stream",
     "text": [
      "teste_matmat_real_entrada_diferente passou\n",
      "[[0.6571769  0.2720606  0.29044195 0.86096035 0.75342443]\n",
      " [0.91640811 0.55537436 0.66703561 1.43706646 1.30761806]\n",
      " [1.26939617 1.08711412 1.39509212 2.11611612 1.92632181]]\n",
      "[[0.6571769  0.2720606  0.29044195 0.86096035 0.75342443]\n",
      " [0.91640811 0.55537436 0.66703561 1.43706646 1.30761806]\n",
      " [1.26939617 1.08711412 1.39509212 2.11611612 1.92632181]]\n",
      "teste_matmat_real_funcoes_comparar_numpy_dot passou\n",
      "[[19. 22.]\n",
      " [43. 50.]]\n",
      "[[19 22]\n",
      " [43 50]]\n",
      "teste_matmat_real_funcoes_ignorar_complexo passou\n",
      "[[-0.73153845+1.675182j   -0.25877881+2.40016442j -0.82160227+2.03245259j\n",
      "  -1.06579351+2.66540555j -0.76476343+2.07853348j]\n",
      " [-0.29170201+1.22133233j  0.13899706+2.14518905j -0.42669713+1.91259444j\n",
      "  -0.17875278+2.65117693j -0.01887177+2.06067267j]\n",
      " [ 0.11926255+1.61282992j  1.05357088+2.19563284j  0.3082432 +2.12948862j\n",
      "   0.8664595 +2.48531981j  0.58228905+1.95340411j]]\n",
      "[[-0.73153845+1.675182j   -0.25877881+2.40016442j -0.82160227+2.03245259j\n",
      "  -1.06579351+2.66540555j -0.76476343+2.07853348j]\n",
      " [-0.29170201+1.22133233j  0.13899706+2.14518905j -0.42669713+1.91259444j\n",
      "  -0.17875278+2.65117693j -0.01887177+2.06067267j]\n",
      " [ 0.11926255+1.61282992j  1.05357088+2.19563284j  0.3082432 +2.12948862j\n",
      "   0.8664595 +2.48531981j  0.58228905+1.95340411j]]\n",
      "teste_matmat_complexo_comparar_numpy_dot passou\n",
      "teste_matmat_complexo_funcao_invalida passou\n"
     ]
    }
   ],
   "source": [
    "# Executar os testes\n",
    "teste_matmat_real_entrada_diferente()\n",
    "teste_matmat_real_funcoes_comparar_numpy_dot()\n",
    "teste_matmat_real_funcoes_ignorar_complexo()\n",
    "teste_matmat_complexo_comparar_numpy_dot()\n",
    "teste_matmat_complexo_funcao_invalida()"
   ]
  },
  {
   "cell_type": "code",
   "execution_count": 3,
   "id": "14e90f76",
   "metadata": {},
   "outputs": [],
   "source": [
    "A = np.array([[7, 14], [21, 7]])\n",
    "B = np.array([[3, 2], [2, 3]])\n",
    "C = np.array([[7 +2j, 14-1j], [21+1j, 7-2j]])"
   ]
  },
  {
   "cell_type": "code",
   "execution_count": 4,
   "id": "7d285842",
   "metadata": {},
   "outputs": [
    {
     "data": {
      "text/plain": [
       "array([[343.+28.j, 196.-35.j],\n",
       "       [294.+49.j, 343.-35.j]])"
      ]
     },
     "execution_count": 4,
     "metadata": {},
     "output_type": "execute_result"
    }
   ],
   "source": [
    "A@C"
   ]
  },
  {
   "cell_type": "code",
   "execution_count": 5,
   "id": "6efe1da9",
   "metadata": {},
   "outputs": [
    {
     "data": {
      "text/plain": [
       "array([[343.+28.j, 196.-35.j],\n",
       "       [294.+49.j, 343.-35.j]])"
      ]
     },
     "execution_count": 5,
     "metadata": {},
     "output_type": "execute_result"
    }
   ],
   "source": [
    "bruno.matmat_complex(A, C)"
   ]
  },
  {
   "cell_type": "code",
   "execution_count": 6,
   "id": "49abe513",
   "metadata": {},
   "outputs": [
    {
     "data": {
      "text/plain": [
       "array([[49, 56],\n",
       "       [77, 63]])"
      ]
     },
     "execution_count": 6,
     "metadata": {},
     "output_type": "execute_result"
    }
   ],
   "source": [
    "A@B"
   ]
  },
  {
   "cell_type": "code",
   "execution_count": 7,
   "id": "e14bd25a",
   "metadata": {},
   "outputs": [
    {
     "data": {
      "text/plain": [
       "array([[49., 56.],\n",
       "       [77., 63.]])"
      ]
     },
     "execution_count": 7,
     "metadata": {},
     "output_type": "execute_result"
    }
   ],
   "source": [
    "bruno.matmat_real_dot(A, B)"
   ]
  },
  {
   "cell_type": "code",
   "execution_count": 8,
   "id": "64979962",
   "metadata": {},
   "outputs": [
    {
     "data": {
      "text/plain": [
       "array([[49., 56.],\n",
       "       [77., 63.]])"
      ]
     },
     "execution_count": 8,
     "metadata": {},
     "output_type": "execute_result"
    }
   ],
   "source": [
    "bruno.matmat_real_simple(A, B)"
   ]
  },
  {
   "cell_type": "code",
   "execution_count": 9,
   "id": "466b470a",
   "metadata": {},
   "outputs": [
    {
     "data": {
      "text/plain": [
       "array([[49., 56.],\n",
       "       [77., 63.]])"
      ]
     },
     "execution_count": 9,
     "metadata": {},
     "output_type": "execute_result"
    }
   ],
   "source": [
    "bruno.matmat_real_outer(A, B)"
   ]
  },
  {
   "cell_type": "code",
   "execution_count": 10,
   "id": "57e738a2",
   "metadata": {},
   "outputs": [
    {
     "data": {
      "text/plain": [
       "array([[49., 56.],\n",
       "       [77., 63.]])"
      ]
     },
     "execution_count": 10,
     "metadata": {},
     "output_type": "execute_result"
    }
   ],
   "source": [
    "bruno.matmat_real_matvec(A, B)"
   ]
  },
  {
   "cell_type": "code",
   "execution_count": 11,
   "id": "b308c72b",
   "metadata": {},
   "outputs": [
    {
     "data": {
      "text/plain": [
       "array([[49., 56.],\n",
       "       [77., 63.]])"
      ]
     },
     "execution_count": 11,
     "metadata": {},
     "output_type": "execute_result"
    }
   ],
   "source": [
    "bruno.matmat_real_columns(A, B)"
   ]
  },
  {
   "cell_type": "code",
   "execution_count": 19,
   "id": "fdc7b6a9",
   "metadata": {},
   "outputs": [
    {
     "data": {
      "text/plain": [
       "array([[343., 196.],\n",
       "       [294., 343.]])"
      ]
     },
     "execution_count": 19,
     "metadata": {},
     "output_type": "execute_result"
    }
   ],
   "source": [
    "bruno.matmat_real_columns(A.real, C.real)"
   ]
  },
  {
   "cell_type": "code",
   "execution_count": 21,
   "id": "e1f02544",
   "metadata": {},
   "outputs": [
    {
     "data": {
      "text/plain": [
       "array([[343., 196.],\n",
       "       [294., 343.]])"
      ]
     },
     "execution_count": 21,
     "metadata": {},
     "output_type": "execute_result"
    }
   ],
   "source": [
    "bruno.matmat_real_dot(A.real, C.real)"
   ]
  },
  {
   "cell_type": "code",
   "execution_count": 14,
   "id": "ab96734d",
   "metadata": {},
   "outputs": [
    {
     "data": {
      "text/plain": [
       "array([[49, 56],\n",
       "       [77, 63]])"
      ]
     },
     "execution_count": 14,
     "metadata": {},
     "output_type": "execute_result"
    }
   ],
   "source": [
    "np.dot(A, B)"
   ]
  },
  {
   "cell_type": "code",
   "execution_count": 15,
   "id": "a7004524",
   "metadata": {},
   "outputs": [
    {
     "data": {
      "text/plain": [
       "array([[343.+28.j, 196.-35.j],\n",
       "       [294.+49.j, 343.-35.j]])"
      ]
     },
     "execution_count": 15,
     "metadata": {},
     "output_type": "execute_result"
    }
   ],
   "source": [
    "np.dot(A, C)"
   ]
  },
  {
   "cell_type": "code",
   "execution_count": 22,
   "id": "ea429420",
   "metadata": {},
   "outputs": [
    {
     "data": {
      "text/plain": [
       "array([[343., 196.],\n",
       "       [294., 343.]])"
      ]
     },
     "execution_count": 22,
     "metadata": {},
     "output_type": "execute_result"
    }
   ],
   "source": [
    "bruno.matmat_real_outer(A.real, C.real)"
   ]
  },
  {
   "cell_type": "code",
   "execution_count": 23,
   "id": "98ed665d",
   "metadata": {},
   "outputs": [
    {
     "data": {
      "text/plain": [
       "array([[343., 196.],\n",
       "       [294., 343.]])"
      ]
     },
     "execution_count": 23,
     "metadata": {},
     "output_type": "execute_result"
    }
   ],
   "source": [
    "bruno.matmat_real_matvec(A.real, C.real)"
   ]
  },
  {
   "cell_type": "code",
   "execution_count": 24,
   "id": "ee9e0385",
   "metadata": {},
   "outputs": [
    {
     "data": {
      "text/plain": [
       "array([[343., 196.],\n",
       "       [294., 343.]])"
      ]
     },
     "execution_count": 24,
     "metadata": {},
     "output_type": "execute_result"
    }
   ],
   "source": [
    "bruno.matmat_real_simple(A.real, C.real)"
   ]
  },
  {
   "cell_type": "markdown",
   "id": "4536c639-8e8c-47bf-adb9-0c4f1b883d06",
   "metadata": {},
   "source": [
    "## Ignorando a parte complexa"
   ]
  }
 ],
 "metadata": {
  "kernelspec": {
   "display_name": "Python 3 (ipykernel)",
   "language": "python",
   "name": "python3"
  },
  "language_info": {
   "codemirror_mode": {
    "name": "ipython",
    "version": 3
   },
   "file_extension": ".py",
   "mimetype": "text/x-python",
   "name": "python",
   "nbconvert_exporter": "python",
   "pygments_lexer": "ipython3",
   "version": "3.12.4"
  }
 },
 "nbformat": 4,
 "nbformat_minor": 5
}
