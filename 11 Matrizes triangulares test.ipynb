{
 "cells": [
  {
   "cell_type": "markdown",
   "id": "01b8f4b3-d5be-4b89-83bf-1b0a4a578447",
   "metadata": {},
   "source": [
    "# Matrizes Triangulares"
   ]
  },
  {
   "cell_type": "code",
   "execution_count": 1,
   "id": "58b4a3f5",
   "metadata": {},
   "outputs": [],
   "source": [
    "import numpy as np\n",
    "import bruno as br  # Importando suas funções\n",
    "\n",
    "def check_input_matrix_vector(matrix, x):\n",
    "    \"\"\"Verifica se a matriz é quadrada e se o vetor tem comprimento correto.\"\"\"\n",
    "    assert matrix.shape[0] == matrix.shape[1], \"A matriz deve ser quadrada.\"\n",
    "    assert isinstance(x, np.ndarray) and x.ndim == 1, \"O vetor x deve ser 1D.\"\n",
    "    assert matrix.shape[0] == len(x), \"O comprimento do vetor deve ser igual ao tamanho da matriz.\"\n",
    "\n",
    "def matvec_triu_prod3(U, x, check_input=True):\n",
    "    '''\n",
    "    Compute the product of an upper triangular matrix U \n",
    "    and a vector x. All elements are real numbers.\n",
    "    \n",
    "    Each element of the resultant vector is obtained by \n",
    "    computing a dot product.\n",
    "    '''\n",
    "    if check_input:\n",
    "        assert U.shape[0] == U.shape[1], \"Matrix must be square\"\n",
    "        assert x.ndim == 1, \"x must be a 1D array\"\n",
    "        assert U.shape[0] == x.shape[0], \"Matrix dimensions must match vector length\"\n",
    "\n",
    "    N = U.shape[0]\n",
    "    y = np.zeros(N)\n",
    "    \n",
    "    for i in range(N):\n",
    "        y[i] = br.dot_real(U[i, i:], x[i:])\n",
    "    \n",
    "    return y\n",
    "\n",
    "\n",
    "def matvec_triu_prod5(U, x, check_input=True):\n",
    "    '''\n",
    "    Compute the product of an upper triangular matrix U \n",
    "    and a vector x. All elements are real numbers.\n",
    "    \n",
    "    The elements of the resultant vector are obtained by \n",
    "    computing successive scalar vector products.\n",
    "    '''\n",
    "    if check_input:\n",
    "        assert U.shape[0] == U.shape[1], \"Matrix must be square\"\n",
    "        assert x.ndim == 1, \"x must be a 1D array\"\n",
    "        assert U.shape[0] == x.shape[0], \"Matrix dimensions must match vector length\"\n",
    "\n",
    "    N = U.shape[0]\n",
    "    y = np.zeros(N)\n",
    "    \n",
    "    for j in range(N):\n",
    "        y[:j+1] += br.scalar_vec_real(x[j], U[:j+1, j])\n",
    "    \n",
    "    return y\n",
    "\n",
    "def matvec_tril_prod8(L, x, check_input=True):\n",
    "    '''\n",
    "    Compute the product of a lower triangular matrix L \n",
    "    and a vector x. All elements are real numbers.\n",
    "    \n",
    "    Each element of the resultant vector is obtained by \n",
    "    computing a dot product between the current row of L \n",
    "    and the portion of x corresponding to the indices.\n",
    "\n",
    "    Parameters\n",
    "    ----------\n",
    "    L : numpy array 2d\n",
    "        Lower triangular matrix.\n",
    "    x : numpy array 1d\n",
    "        Vector that postmultiply the triangular matrix L.\n",
    "    check_input : boolean\n",
    "        If True, verify if the input is valid. Default is True.\n",
    "\n",
    "    Returns\n",
    "    -------\n",
    "    result : numpy array 1d\n",
    "        Vector obtained from the product L x.\n",
    "    '''\n",
    "    if check_input:\n",
    "        assert L.shape[0] == L.shape[1], \"Matrix must be square\"\n",
    "        assert x.ndim == 1, \"x must be a 1D array\"\n",
    "        assert L.shape[0] == x.shape[0], \"Matrix dimensions must match vector length\"\n",
    "\n",
    "    N = L.shape[0]\n",
    "    z = np.zeros(N)\n",
    "    \n",
    "    for i in range(N):\n",
    "        z[i] = br.dot_real(L[i, :i], x[:i])\n",
    "    \n",
    "    return z\n",
    "\n",
    "def matvec_tril_prod10(L, x, check_input=True):\n",
    "    '''\n",
    "    Compute the product of a lower triangular matrix L \n",
    "    and a vector x. All elements are real numbers.\n",
    "    \n",
    "    The elements of the resultant vector are obtained \n",
    "    by computing successive scalar vector products.\n",
    "\n",
    "    Parameters\n",
    "    ----------\n",
    "    L : numpy array 2d\n",
    "        Lower triangular matrix.\n",
    "    x : numpy array 1d\n",
    "        Vector that postmultiply the triangular matrix L.\n",
    "    check_input : boolean\n",
    "        If True, verify if the input is valid. Default is True.\n",
    "\n",
    "    Returns\n",
    "    -------\n",
    "    result : numpy array 1d\n",
    "        Vector obtained from the product L x.\n",
    "    '''\n",
    "    if check_input:\n",
    "        assert L.shape[0] == L.shape[1], \"Matrix must be square\"\n",
    "        assert x.ndim == 1, \"x must be a 1D array\"\n",
    "        assert L.shape[0] == x.shape[0], \"Matrix dimensions must match vector length\"\n",
    "\n",
    "    N = L.shape[0]\n",
    "    z = np.zeros(N)\n",
    "    \n",
    "    for j in range(N):\n",
    "        z[j:] += br.scalar_vec_real(x[j], L[j:, j])\n",
    "    \n",
    "    return z\n"
   ]
  },
  {
   "cell_type": "code",
   "execution_count": 2,
   "id": "8d539d08",
   "metadata": {},
   "outputs": [],
   "source": [
    "# Gera uma matriz triangular superior aleatória\n",
    "def generate_upper_triangular_matrix(n, random_seed=None):\n",
    "    np.random.seed(random_seed)\n",
    "    matrix = np.random.rand(n, n)\n",
    "    return np.triu(matrix)  # Retorna apenas os elementos da triangular superior\n",
    "\n",
    "# Gera uma matriz triangular inferior aleatória\n",
    "def generate_lower_triangular_matrix(n, random_seed=None):\n",
    "    np.random.seed(random_seed)\n",
    "    matrix = np.random.rand(n, n)\n",
    "    return np.tril(matrix)  # Retorna apenas os elementos da triangular inferior\n",
    "\n",
    "def generate_random_vector(n, random_seed=None):\n",
    "    np.random.seed(random_seed)\n",
    "    return np.random.rand(n)"
   ]
  },
  {
   "cell_type": "code",
   "execution_count": 3,
   "id": "167db6ab",
   "metadata": {},
   "outputs": [],
   "source": [
    "U3 = generate_upper_triangular_matrix(3)\n",
    "v3 = generate_random_vector(3)"
   ]
  },
  {
   "cell_type": "code",
   "execution_count": 4,
   "id": "5ed150fa",
   "metadata": {},
   "outputs": [
    {
     "data": {
      "text/plain": [
       "array([0.79613792, 0.78229711, 0.56965056])"
      ]
     },
     "execution_count": 4,
     "metadata": {},
     "output_type": "execute_result"
    }
   ],
   "source": [
    "matvec_triu_prod3(U3, v3)"
   ]
  },
  {
   "cell_type": "code",
   "execution_count": 5,
   "id": "a2ac859d",
   "metadata": {},
   "outputs": [
    {
     "data": {
      "text/plain": [
       "array([0.79613792, 0.78229711, 0.56965056])"
      ]
     },
     "execution_count": 5,
     "metadata": {},
     "output_type": "execute_result"
    }
   ],
   "source": [
    "matvec_triu_prod5(U3, v3)"
   ]
  },
  {
   "cell_type": "code",
   "execution_count": 6,
   "id": "9cbdedd3",
   "metadata": {},
   "outputs": [],
   "source": [
    "L3 = generate_lower_triangular_matrix(3)"
   ]
  },
  {
   "cell_type": "code",
   "execution_count": 7,
   "id": "56c3e28c",
   "metadata": {},
   "outputs": [
    {
     "data": {
      "text/plain": [
       "array([0.        , 0.00619114, 0.37771922])"
      ]
     },
     "execution_count": 7,
     "metadata": {},
     "output_type": "execute_result"
    }
   ],
   "source": [
    "matvec_tril_prod8(L3, v3)"
   ]
  },
  {
   "cell_type": "code",
   "execution_count": 8,
   "id": "abf2124a",
   "metadata": {},
   "outputs": [
    {
     "data": {
      "text/plain": [
       "array([5.51925032e-04, 5.53516950e-02, 6.18187703e-01])"
      ]
     },
     "execution_count": 8,
     "metadata": {},
     "output_type": "execute_result"
    }
   ],
   "source": [
    "matvec_tril_prod10(L3, v3)"
   ]
  },
  {
   "cell_type": "markdown",
   "id": "bcf72b75-b8f6-41b7-a331-0ad371a30757",
   "metadata": {},
   "source": [
    "### Comparando Ux = v  ----> Triu_system ----> Triangular_superior"
   ]
  },
  {
   "cell_type": "code",
   "execution_count": 9,
   "id": "6169e333",
   "metadata": {},
   "outputs": [
    {
     "data": {
      "text/plain": [
       "array([-0.92943031,  0.03469383,  0.99285158])"
      ]
     },
     "execution_count": 9,
     "metadata": {},
     "output_type": "execute_result"
    }
   ],
   "source": [
    "x= br.triangular_superior(U3, v3)\n",
    "x"
   ]
  },
  {
   "cell_type": "code",
   "execution_count": 10,
   "id": "ee196997-636c-47fc-acb3-5f078aadacfe",
   "metadata": {},
   "outputs": [
    {
     "data": {
      "text/plain": [
       "array([-0.92943031,  0.03469383,  0.99285158])"
      ]
     },
     "execution_count": 10,
     "metadata": {},
     "output_type": "execute_result"
    }
   ],
   "source": [
    "x1 = np.linalg.solve(U3, v3)\n",
    "x1"
   ]
  },
  {
   "cell_type": "markdown",
   "id": "bbbc2a4c-2f59-4df2-9834-ff5a8a1184c1",
   "metadata": {},
   "source": [
    "### Comparando Lx = v -----> Tril_system -----> Triangular_inferior"
   ]
  },
  {
   "cell_type": "code",
   "execution_count": 11,
   "id": "d9a61ad0-ca67-4548-9f2f-0670e04161bc",
   "metadata": {},
   "outputs": [
    {
     "data": {
      "text/plain": [
       "array([ 1.49222126,  2.49915192, -5.01339421])"
      ]
     },
     "execution_count": 11,
     "metadata": {},
     "output_type": "execute_result"
    }
   ],
   "source": [
    "x= br.triangular_inferior(L3, v3)\n",
    "x"
   ]
  },
  {
   "cell_type": "code",
   "execution_count": 12,
   "id": "6a3368c5-f3b3-4dd7-846c-67be370cfc4e",
   "metadata": {},
   "outputs": [
    {
     "data": {
      "text/plain": [
       "array([ 1.49222126,  2.49915192, -5.01339421])"
      ]
     },
     "execution_count": 12,
     "metadata": {},
     "output_type": "execute_result"
    }
   ],
   "source": [
    "x1 = np.linalg.solve(L3, v3)\n",
    "x1"
   ]
  },
  {
   "cell_type": "code",
   "execution_count": null,
   "id": "cbc1dd28-1f58-4b59-941e-daac37e9bfdb",
   "metadata": {},
   "outputs": [],
   "source": []
  }
 ],
 "metadata": {
  "kernelspec": {
   "display_name": "Python 3 (ipykernel)",
   "language": "python",
   "name": "python3"
  },
  "language_info": {
   "codemirror_mode": {
    "name": "ipython",
    "version": 3
   },
   "file_extension": ".py",
   "mimetype": "text/x-python",
   "name": "python",
   "nbconvert_exporter": "python",
   "pygments_lexer": "ipython3",
   "version": "3.12.4"
  }
 },
 "nbformat": 4,
 "nbformat_minor": 5
}
