{
 "cells": [
  {
   "cell_type": "markdown",
   "id": "1cbca65d",
   "metadata": {},
   "source": [
    "### Aqui vamos testar a lógica por trás de um produto externo"
   ]
  },
  {
   "cell_type": "code",
   "execution_count": 5,
   "id": "48337fdc",
   "metadata": {},
   "outputs": [],
   "source": [
    "import numpy as np"
   ]
  },
  {
   "cell_type": "code",
   "execution_count": 6,
   "id": "01c70e5e",
   "metadata": {},
   "outputs": [],
   "source": [
    "def outer_real_simple(x, y):\n",
    "    N = x.size\n",
    "    M = y.size\n",
    "    R = np.zeros(shape=(N, M))\n",
    "    assert x.ndim == 1, 'x deve ser um vetor 1D'\n",
    "    assert y.ndim == 1, 'y deve ser um vetor 1D'\n",
    "    for i in range(0, N):\n",
    "        for j in range(0, M):\n",
    "            R[i, j] = x[i]*y[j]\n",
    "    return R"
   ]
  },
  {
   "cell_type": "code",
   "execution_count": 7,
   "id": "646f68a1",
   "metadata": {},
   "outputs": [],
   "source": [
    "x = np.array([2,4,5, 2])\n",
    "y = np.array([1,3,1])"
   ]
  },
  {
   "cell_type": "code",
   "execution_count": 8,
   "id": "d3a8df29",
   "metadata": {},
   "outputs": [
    {
     "name": "stdout",
     "output_type": "stream",
     "text": [
      "[[ 2.  6.  2.]\n",
      " [ 4. 12.  4.]\n",
      " [ 5. 15.  5.]\n",
      " [ 2.  6.  2.]]\n"
     ]
    }
   ],
   "source": [
    "print(outer_real_simple(x, y))"
   ]
  },
  {
   "cell_type": "code",
   "execution_count": 9,
   "id": "25a76132",
   "metadata": {},
   "outputs": [
    {
     "name": "stdout",
     "output_type": "stream",
     "text": [
      "[[ 2  6  2]\n",
      " [ 4 12  4]\n",
      " [ 5 15  5]\n",
      " [ 2  6  2]]\n"
     ]
    }
   ],
   "source": [
    "print(np.outer(x, y))"
   ]
  },
  {
   "cell_type": "markdown",
   "id": "f2c26bb1",
   "metadata": {},
   "source": [
    "#### Aqui vamos fazer a norma 2 de uma matriz"
   ]
  },
  {
   "cell_type": "code",
   "execution_count": 14,
   "id": "debd1a37",
   "metadata": {},
   "outputs": [],
   "source": [
    "a = np.array([[3,1,5], [2,2,2], [3,1,5]])"
   ]
  },
  {
   "cell_type": "code",
   "execution_count": 15,
   "id": "153eede4",
   "metadata": {},
   "outputs": [
    {
     "data": {
      "text/plain": [
       "array([[3, 1, 5],\n",
       "       [2, 2, 2],\n",
       "       [3, 1, 5]])"
      ]
     },
     "execution_count": 15,
     "metadata": {},
     "output_type": "execute_result"
    }
   ],
   "source": [
    "a"
   ]
  },
  {
   "cell_type": "code",
   "execution_count": 21,
   "id": "297cfa6b",
   "metadata": {},
   "outputs": [
    {
     "data": {
      "text/plain": [
       "array([[22, 10, 34],\n",
       "       [10,  6, 14],\n",
       "       [34, 14, 54]])"
      ]
     },
     "execution_count": 21,
     "metadata": {},
     "output_type": "execute_result"
    }
   ],
   "source": [
    "d = a.T@a\n",
    "d"
   ]
  },
  {
   "cell_type": "code",
   "execution_count": 22,
   "id": "96a9849b",
   "metadata": {},
   "outputs": [
    {
     "data": {
      "text/plain": [
       "array([[3, 2, 3],\n",
       "       [1, 2, 1],\n",
       "       [5, 2, 5]])"
      ]
     },
     "execution_count": 22,
     "metadata": {},
     "output_type": "execute_result"
    }
   ],
   "source": [
    "a.T"
   ]
  },
  {
   "cell_type": "code",
   "execution_count": 74,
   "id": "53ef669c",
   "metadata": {
    "scrolled": true
   },
   "outputs": [
    {
     "data": {
      "text/plain": [
       "8.921186174671476"
      ]
     },
     "execution_count": 74,
     "metadata": {},
     "output_type": "execute_result"
    }
   ],
   "source": [
    "np.linalg.norm(a, ord=2)"
   ]
  },
  {
   "cell_type": "code",
   "execution_count": 63,
   "id": "71b8242b",
   "metadata": {},
   "outputs": [],
   "source": [
    "N, M  = a.shape\n",
    "r = 0\n",
    "for i in range(0, N):\n",
    "    for j in range(0, M):\n",
    "        r+= abs(a[j]*a[i])"
   ]
  },
  {
   "cell_type": "code",
   "execution_count": 64,
   "id": "6c2bef94",
   "metadata": {},
   "outputs": [
    {
     "data": {
      "text/plain": [
       "array([ 64,  16, 144])"
      ]
     },
     "execution_count": 64,
     "metadata": {},
     "output_type": "execute_result"
    }
   ],
   "source": [
    "r"
   ]
  },
  {
   "cell_type": "code",
   "execution_count": 65,
   "id": "cbeb8dbb",
   "metadata": {},
   "outputs": [
    {
     "data": {
      "text/plain": [
       "9.055385138137417"
      ]
     },
     "execution_count": 65,
     "metadata": {},
     "output_type": "execute_result"
    }
   ],
   "source": [
    "np.sqrt(82)"
   ]
  },
  {
   "cell_type": "code",
   "execution_count": 66,
   "id": "6067bc16",
   "metadata": {},
   "outputs": [
    {
     "data": {
      "text/plain": [
       "9.055385138137417"
      ]
     },
     "execution_count": 66,
     "metadata": {},
     "output_type": "execute_result"
    }
   ],
   "source": [
    "np.sqrt(np.trace(d))"
   ]
  },
  {
   "cell_type": "code",
   "execution_count": 75,
   "id": "7a0eb2a7",
   "metadata": {},
   "outputs": [
    {
     "data": {
      "text/plain": [
       "9.055385138137417"
      ]
     },
     "execution_count": 75,
     "metadata": {},
     "output_type": "execute_result"
    }
   ],
   "source": [
    "np.sqrt(np.sum(a**2))"
   ]
  },
  {
   "cell_type": "code",
   "execution_count": null,
   "id": "34bce2b2",
   "metadata": {},
   "outputs": [],
   "source": []
  }
 ],
 "metadata": {
  "kernelspec": {
   "display_name": "Python 3 (ipykernel)",
   "language": "python",
   "name": "python3"
  },
  "language_info": {
   "codemirror_mode": {
    "name": "ipython",
    "version": 3
   },
   "file_extension": ".py",
   "mimetype": "text/x-python",
   "name": "python",
   "nbconvert_exporter": "python",
   "pygments_lexer": "ipython3",
   "version": "3.12.4"
  }
 },
 "nbformat": 4,
 "nbformat_minor": 5
}
