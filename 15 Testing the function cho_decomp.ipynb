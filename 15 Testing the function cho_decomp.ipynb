{
 "cells": [
  {
   "cell_type": "markdown",
   "id": "cb805f21",
   "metadata": {},
   "source": [
    "# Cholesky"
   ]
  },
  {
   "cell_type": "code",
   "execution_count": 1,
   "id": "40535398",
   "metadata": {},
   "outputs": [],
   "source": [
    "import numpy as np\n",
    "import bruno as br"
   ]
  },
  {
   "cell_type": "markdown",
   "id": "e98d5563",
   "metadata": {},
   "source": [
    "## Teste 1"
   ]
  },
  {
   "cell_type": "code",
   "execution_count": 2,
   "id": "c22a305a",
   "metadata": {},
   "outputs": [],
   "source": [
    "# Definir uma matriz simétrica positiva definida\n",
    "A = np.array([[4, 2, 2],\n",
    "              [2, 3, 1],\n",
    "              [2, 1, 2]])"
   ]
  },
  {
   "cell_type": "code",
   "execution_count": 3,
   "id": "e8f81e55",
   "metadata": {},
   "outputs": [],
   "source": [
    "# Calcular a decomposição de Cholesky\n",
    "CH = br.cho_decomp(A)"
   ]
  },
  {
   "cell_type": "code",
   "execution_count": 4,
   "id": "0c06b564",
   "metadata": {},
   "outputs": [
    {
     "data": {
      "text/plain": [
       "array([[2.        , 0.        , 0.        ],\n",
       "       [1.        , 1.41421356, 0.        ],\n",
       "       [1.        , 0.        , 1.        ]])"
      ]
     },
     "execution_count": 4,
     "metadata": {},
     "output_type": "execute_result"
    }
   ],
   "source": [
    "CH"
   ]
  },
  {
   "cell_type": "code",
   "execution_count": 5,
   "id": "269d68d2",
   "metadata": {},
   "outputs": [],
   "source": [
    "D = br.matmat_real_outer(CH, CH.T)"
   ]
  },
  {
   "cell_type": "code",
   "execution_count": 6,
   "id": "4ad6adc0",
   "metadata": {},
   "outputs": [
    {
     "data": {
      "text/plain": [
       "array([[4., 2., 2.],\n",
       "       [2., 3., 1.],\n",
       "       [2., 1., 2.]])"
      ]
     },
     "execution_count": 6,
     "metadata": {},
     "output_type": "execute_result"
    }
   ],
   "source": [
    "D"
   ]
  },
  {
   "cell_type": "code",
   "execution_count": 7,
   "id": "251c7386",
   "metadata": {},
   "outputs": [
    {
     "data": {
      "text/plain": [
       "True"
      ]
     },
     "execution_count": 7,
     "metadata": {},
     "output_type": "execute_result"
    }
   ],
   "source": [
    "np.allclose(A, D)"
   ]
  },
  {
   "cell_type": "code",
   "execution_count": 8,
   "id": "d480e17c",
   "metadata": {},
   "outputs": [
    {
     "data": {
      "text/plain": [
       "array([40., 22., 21.])"
      ]
     },
     "execution_count": 8,
     "metadata": {},
     "output_type": "execute_result"
    }
   ],
   "source": [
    "# Definindo um vetor x\n",
    "x = np.array([9, 1, 1])\n",
    "y = br.matvec_real_simple(A, x)\n",
    "y"
   ]
  },
  {
   "cell_type": "code",
   "execution_count": 9,
   "id": "08c5d0e7",
   "metadata": {},
   "outputs": [
    {
     "data": {
      "text/plain": [
       "array([20.        ,  1.41421356,  1.        ])"
      ]
     },
     "execution_count": 9,
     "metadata": {},
     "output_type": "execute_result"
    }
   ],
   "source": [
    "w = br.matvec_dot(np.linalg.inv(CH), y)\n",
    "w"
   ]
  },
  {
   "cell_type": "code",
   "execution_count": 10,
   "id": "da3848f1",
   "metadata": {},
   "outputs": [
    {
     "data": {
      "text/plain": [
       "array([9., 1., 1.])"
      ]
     },
     "execution_count": 10,
     "metadata": {},
     "output_type": "execute_result"
    }
   ],
   "source": [
    "x1 = br.matvec_dot(np.linalg.inv(CH.T), w)\n",
    "x1"
   ]
  },
  {
   "cell_type": "markdown",
   "id": "99ad9786",
   "metadata": {},
   "source": [
    "## Teste 2"
   ]
  },
  {
   "cell_type": "code",
   "execution_count": 11,
   "id": "99b32153",
   "metadata": {},
   "outputs": [
    {
     "data": {
      "text/plain": [
       "True"
      ]
     },
     "execution_count": 11,
     "metadata": {},
     "output_type": "execute_result"
    }
   ],
   "source": [
    "# Define uma matriz simétrica e positiva definida\n",
    "A = np.array([[4, 2, 2],\n",
    "              [2, 2, 1],\n",
    "              [2, 1, 2]])\n",
    "\n",
    "# Faz uma cópia da matriz A para testar\n",
    "A1 = A.copy()\n",
    "\n",
    "# Calcula a decomposição de Cholesky\n",
    "G = br.cho_decomp_overwrite(A1)\n",
    "\n",
    "# Verifica se A = G @ G.T\n",
    "u = br.matmat_real_outer(G, G.T)\n",
    "np.allclose(u, A)"
   ]
  },
  {
   "cell_type": "code",
   "execution_count": 12,
   "id": "97619e7c",
   "metadata": {},
   "outputs": [
    {
     "data": {
      "text/plain": [
       "array([[4., 2., 2.],\n",
       "       [2., 2., 1.],\n",
       "       [2., 1., 2.]])"
      ]
     },
     "execution_count": 12,
     "metadata": {},
     "output_type": "execute_result"
    }
   ],
   "source": [
    "u"
   ]
  },
  {
   "cell_type": "code",
   "execution_count": 13,
   "id": "335f281e",
   "metadata": {},
   "outputs": [
    {
     "data": {
      "text/plain": [
       "array([[4, 2, 2],\n",
       "       [2, 2, 1],\n",
       "       [2, 1, 2]])"
      ]
     },
     "execution_count": 13,
     "metadata": {},
     "output_type": "execute_result"
    }
   ],
   "source": [
    "A"
   ]
  },
  {
   "cell_type": "code",
   "execution_count": 14,
   "id": "50a18788",
   "metadata": {},
   "outputs": [],
   "source": [
    "# Define um vetor x\n",
    "x = np.array([1, 2, 3])\n",
    "\n",
    "# Calcula o vetor y = A @ x\n",
    "y = A @ x\n",
    "\n",
    "# Faz uma cópia da matriz A para testar\n",
    "A1 = A.copy()\n",
    "\n",
    "# Calcula a decomposição de Cholesky\n",
    "G = br.cho_decomp_overwrite(A1)\n",
    "\n",
    "# Resolve o sistema triangular inferior G @ z = y\n",
    "z = br.triangular_inferior(G, y)\n",
    "\n",
    "# Resolve o sistema triangular superior G.T @ x1 = z\n",
    "x1 = br.triangular_superior(G.T, z)"
   ]
  },
  {
   "cell_type": "code",
   "execution_count": 15,
   "id": "0aa7e4f0",
   "metadata": {},
   "outputs": [
    {
     "data": {
      "text/plain": [
       "array([[2, 0, 0],\n",
       "       [1, 1, 0],\n",
       "       [1, 0, 1]])"
      ]
     },
     "execution_count": 15,
     "metadata": {},
     "output_type": "execute_result"
    }
   ],
   "source": [
    "G"
   ]
  },
  {
   "cell_type": "code",
   "execution_count": 16,
   "id": "d1b518b1",
   "metadata": {},
   "outputs": [
    {
     "data": {
      "text/plain": [
       "array([1., 2., 3.])"
      ]
     },
     "execution_count": 16,
     "metadata": {},
     "output_type": "execute_result"
    }
   ],
   "source": [
    "x1"
   ]
  },
  {
   "cell_type": "code",
   "execution_count": 17,
   "id": "e351b1b6",
   "metadata": {},
   "outputs": [
    {
     "data": {
      "text/plain": [
       "array([[2., 0., 0.],\n",
       "       [1., 1., 0.],\n",
       "       [1., 0., 1.]])"
      ]
     },
     "execution_count": 17,
     "metadata": {},
     "output_type": "execute_result"
    }
   ],
   "source": [
    "np.linalg.cholesky(A)"
   ]
  },
  {
   "cell_type": "markdown",
   "id": "80eae0da",
   "metadata": {},
   "source": [
    "## Teste 3"
   ]
  },
  {
   "cell_type": "code",
   "execution_count": 21,
   "id": "a4d7a7ea",
   "metadata": {},
   "outputs": [],
   "source": [
    "# Teste 1: Verificar se A * Ainv é a matriz identidade\n",
    "A = np.array([[4, 12, -16], \n",
    "              [12, 37, -43], \n",
    "              [-16, -43, 98]])  # Matriz simétrica e positiva definida\n",
    "\n",
    "# Calcular a decomposição de Cholesky de A\n",
    "G = br.cho_decomp(A)\n",
    "\n",
    "# Calcular a inversa de A usando a função cho_inverse\n",
    "Ainv = br.cho_inverse(G)\n",
    "\n",
    "# Verificar o produto A @ Ainv e Ainv @ A\n",
    "identity_AAinv = br.matmat_real_dot(A, Ainv)\n",
    "identity_AinvA = br.matmat_real_dot(Ainv, A)"
   ]
  },
  {
   "cell_type": "code",
   "execution_count": 24,
   "id": "4b02aeeb",
   "metadata": {},
   "outputs": [
    {
     "data": {
      "text/plain": [
       "True"
      ]
     },
     "execution_count": 24,
     "metadata": {},
     "output_type": "execute_result"
    }
   ],
   "source": [
    "np.allclose(identity_AAinv, identity_AinvA, rtol = 10)"
   ]
  },
  {
   "cell_type": "code",
   "execution_count": 25,
   "id": "0de11c6a",
   "metadata": {},
   "outputs": [
    {
     "data": {
      "text/plain": [
       "array([[ 49.36111111, -13.55555556,   2.11111111],\n",
       "       [-13.55555556,   3.77777778,  -0.55555556],\n",
       "       [  2.11111111,  -0.55555556,   0.11111111]])"
      ]
     },
     "execution_count": 25,
     "metadata": {},
     "output_type": "execute_result"
    }
   ],
   "source": [
    "Ainv"
   ]
  },
  {
   "cell_type": "code",
   "execution_count": 27,
   "id": "c4b6a756",
   "metadata": {},
   "outputs": [
    {
     "data": {
      "text/plain": [
       "array([[ 49.36111111, -13.55555556,   2.11111111],\n",
       "       [-13.55555556,   3.77777778,  -0.55555556],\n",
       "       [  2.11111111,  -0.55555556,   0.11111111]])"
      ]
     },
     "execution_count": 27,
     "metadata": {},
     "output_type": "execute_result"
    }
   ],
   "source": [
    "np.linalg.inv(A)"
   ]
  },
  {
   "cell_type": "code",
   "execution_count": null,
   "id": "202104ff",
   "metadata": {},
   "outputs": [],
   "source": []
  }
 ],
 "metadata": {
  "kernelspec": {
   "display_name": "Python 3 (ipykernel)",
   "language": "python",
   "name": "python3"
  },
  "language_info": {
   "codemirror_mode": {
    "name": "ipython",
    "version": 3
   },
   "file_extension": ".py",
   "mimetype": "text/x-python",
   "name": "python",
   "nbconvert_exporter": "python",
   "pygments_lexer": "ipython3",
   "version": "3.11.7"
  }
 },
 "nbformat": 4,
 "nbformat_minor": 5
}
