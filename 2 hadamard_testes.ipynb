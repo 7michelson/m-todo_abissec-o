{
 "cells": [
  {
   "cell_type": "markdown",
   "id": "ef6226a3-f3a3-465a-9613-13e3ff6ecdc7",
   "metadata": {},
   "source": [
    "# Hadamard product"
   ]
  },
  {
   "cell_type": "code",
   "execution_count": 1,
   "id": "81d81a71",
   "metadata": {},
   "outputs": [],
   "source": [
    "import bruno as br\n",
    "import numpy as np\n",
    "import pytest\n",
    "from numpy.testing import assert_almost_equal as aae"
   ]
  },
  {
   "cell_type": "code",
   "execution_count": 2,
   "id": "09a35e2d",
   "metadata": {},
   "outputs": [],
   "source": [
    "# Hadamard product\n",
    "\n",
    "def test_hadamard_real_different_shapes():\n",
    "    'fail if input variables have different sizes'\n",
    "    a = np.linspace(5,10,8)\n",
    "    B = np.ones((4,4))\n",
    "    try:\n",
    "        br.hadamard_real_vector(a, B)\n",
    "    except AssertionError as e:\n",
    "        print(e)\n",
    "\n",
    "\n",
    "def test_hadamard_real_compare_asterisk():\n",
    "    'compare hadamard_real function with * operator'\n",
    "    # for vectors\n",
    "    # set random generator\n",
    "    rng = np.random.default_rng(11117665544444412)\n",
    "    # use the random generator to create input parameters\n",
    "    input1 = rng.random(18)\n",
    "    input2 = rng.random(18)\n",
    "    try:\n",
    "        output = br.hadamard_real_vector(input1, input2)\n",
    "        output_asterisk = input1*input2\n",
    "        aae(output, output_asterisk, decimal=10)\n",
    "    except AssertionError as e:\n",
    "        print(e)\n",
    "    try:\n",
    "        # for matrices\n",
    "        input1 = rng.random((5, 7))\n",
    "        input2 = rng.random((5, 7))\n",
    "        output = br.hadamard_real_matrix(input1, input2)\n",
    "        output_asterisk = input1*input2\n",
    "        print(np.allclose(output, output_asterisk, rtol=10))\n",
    "    except AssertionError as e:\n",
    "        print(e)\n",
    "    \n",
    "\n",
    "\n",
    "def test_hadamard_real_ignore_complex():\n",
    "    'complex part of input must be ignored'\n",
    "    # for vectors\n",
    "    # set random generator\n",
    "    rng = np.random.default_rng(9999999917665544444412)\n",
    "    # use the random generator to create input parameters\n",
    "    input1 = rng.random(10)\n",
    "    input2 = rng.random(10) + 1j*np.ones(10)\n",
    "    try:\n",
    "        \n",
    "        output = br.hadamard_real_vector(np.real(input1), np.real(input2.real))\n",
    "        output_reference = input1.real*input2.real\n",
    "        print(output)\n",
    "        return np.allclose(output, output_reference, rtol=10)\n",
    "       \n",
    "    except AssertionError as e:\n",
    "        print(e)\n",
    "     # for matrices\n",
    "    input1 = rng.random((5, 7)) - 1j*np.ones((5,7))\n",
    "    input2 = rng.random((5, 7))\n",
    "    try:\n",
    "        output = br.hadamard_real_matrix(input1.real, input2.real)\n",
    "        output_reference = input1.real*input2.real\n",
    "        print(output)\n",
    "        return np.allclose(output, output_reference, rtol=10)\n",
    "    except AssertionError as e:\n",
    "        print(e)\n",
    "\n",
    "\n",
    "def test_hadamard_complex_compare_asterisk():\n",
    "    'compare hadamard_complex function with * operator'\n",
    "    #for vectors\n",
    "    # set random generator\n",
    "    rng = np.random.default_rng(777799917665544444412)\n",
    "    input1 = rng.random((4, 3))\n",
    "    input2 = rng.random((4, 3))\n",
    "    try:\n",
    "        output =  br.hadamard_complex_vector(input1, input2)\n",
    "        output_asterisk = input1*input2\n",
    "        np.allclose(output, output_asterisk, rtol=10)\n",
    "    except AssertionError as err:\n",
    "        print(err)\n",
    "    # for matrices\n",
    "    try:\n",
    "        output = br.hadamard_complex_matrix(input1, input2)\n",
    "        output_asterisk = input1*input2\n",
    "        np.allclose(output, output_asterisk, rtol=10)\n",
    "    except AssertionError as err:\n",
    "        print(err)"
   ]
  },
  {
   "cell_type": "code",
   "execution_count": 3,
   "id": "367aff68",
   "metadata": {},
   "outputs": [
    {
     "name": "stdout",
     "output_type": "stream",
     "text": [
      "Os vetores devem ter o mesmo tamanho.\n"
     ]
    }
   ],
   "source": [
    "test_hadamard_real_different_shapes()"
   ]
  },
  {
   "cell_type": "code",
   "execution_count": 7,
   "id": "784cf67d",
   "metadata": {},
   "outputs": [],
   "source": [
    "test_hadamard_real_compare_asterisk()"
   ]
  },
  {
   "cell_type": "code",
   "execution_count": 8,
   "id": "b60c4b96",
   "metadata": {},
   "outputs": [
    {
     "name": "stdout",
     "output_type": "stream",
     "text": [
      "[0.41265301 0.2352869  0.32796779 0.08889215 0.03546227 0.16680992\n",
      " 0.78187705 0.4990065  0.03409233 0.14555901]\n"
     ]
    },
    {
     "data": {
      "text/plain": [
       "True"
      ]
     },
     "execution_count": 8,
     "metadata": {},
     "output_type": "execute_result"
    }
   ],
   "source": [
    "test_hadamard_real_ignore_complex()"
   ]
  },
  {
   "cell_type": "code",
   "execution_count": 9,
   "id": "46ce695c",
   "metadata": {},
   "outputs": [
    {
     "name": "stdout",
     "output_type": "stream",
     "text": [
      "Os vetores x e y devem ser 1D.\n",
      "A matriz não é do conjuto do complexo, por favor. verifique os dados!\n"
     ]
    }
   ],
   "source": [
    "test_hadamard_complex_compare_asterisk()"
   ]
  },
  {
   "cell_type": "code",
   "execution_count": null,
   "id": "b0e1cfe5",
   "metadata": {},
   "outputs": [],
   "source": []
  }
 ],
 "metadata": {
  "kernelspec": {
   "display_name": "Python 3 (ipykernel)",
   "language": "python",
   "name": "python3"
  },
  "language_info": {
   "codemirror_mode": {
    "name": "ipython",
    "version": 3
   },
   "file_extension": ".py",
   "mimetype": "text/x-python",
   "name": "python",
   "nbconvert_exporter": "python",
   "pygments_lexer": "ipython3",
   "version": "3.12.4"
  }
 },
 "nbformat": 4,
 "nbformat_minor": 5
}
