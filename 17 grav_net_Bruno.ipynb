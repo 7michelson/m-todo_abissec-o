{
 "cells": [
  {
   "cell_type": "code",
   "execution_count": 1,
   "id": "e8bdfc89",
   "metadata": {},
   "outputs": [],
   "source": [
    "import numpy as np\n",
    "import bruno"
   ]
  },
  {
   "cell_type": "markdown",
   "id": "25a33c76",
   "metadata": {},
   "source": [
    "### Gerando valores de anomalia de gravidade mGal"
   ]
  },
  {
   "cell_type": "code",
   "execution_count": 2,
   "id": "484ac775",
   "metadata": {},
   "outputs": [
    {
     "name": "stdout",
     "output_type": "stream",
     "text": [
      "978163.0\n"
     ]
    }
   ],
   "source": [
    "N = 6 # numero de nós \n",
    "# valor de referencia de gravidade em mGal\n",
    "g_ref = 978163.000\n",
    "print(g_ref)"
   ]
  },
  {
   "cell_type": "code",
   "execution_count": 3,
   "id": "24e3981e",
   "metadata": {},
   "outputs": [
    {
     "name": "stdout",
     "output_type": "stream",
     "text": [
      "978177.9033183053\n",
      "978194.2397607918\n",
      "978207.5782130521\n",
      "978247.6715835293\n",
      "978362.1955659175\n",
      "978273.5946933671\n"
     ]
    }
   ],
   "source": [
    "# valores verdaeirs de gravidade em cada nó \n",
    "rng = np.random.default_rng(seed=78888880864342)\n",
    "g_true = g_ref + 200.*rng.random(N)\n",
    "\n",
    "for gi in g_true:\n",
    "    print(gi)\n",
    "\n",
    "# indices das estações gi e gj\n",
    "# usado para calcular as gravidades diferentes\n",
    "i = [0, 1, 2, 3, 2]\n",
    "j = [1, 2, 5, 4, 3]"
   ]
  },
  {
   "cell_type": "code",
   "execution_count": 4,
   "id": "f9fb5275",
   "metadata": {},
   "outputs": [
    {
     "name": "stdout",
     "output_type": "stream",
     "text": [
      "16.336442486499436\n",
      "13.33845226035919\n",
      "66.016480315011\n",
      "114.52398238820024\n",
      "40.09337047720328\n"
     ]
    }
   ],
   "source": [
    "# verdadeira diferença de gravidade\n",
    "l_true = g_true[j] - g_true[i]\n",
    "\n",
    "for li in l_true:\n",
    "    print(li)"
   ]
  },
  {
   "cell_type": "code",
   "execution_count": 5,
   "id": "2d754783",
   "metadata": {},
   "outputs": [
    {
     "name": "stdout",
     "output_type": "stream",
     "text": [
      "978177.9033183053\n",
      "978273.5946933671\n"
     ]
    }
   ],
   "source": [
    "# valores verdadeirs de gravidade absoluta\n",
    "g_abs_true = g_true[[0, 5]]\n",
    "\n",
    "for gabs in g_abs_true:\n",
    "    print(gabs)"
   ]
  },
  {
   "cell_type": "code",
   "execution_count": 6,
   "id": "e1a60997",
   "metadata": {},
   "outputs": [
    {
     "name": "stdout",
     "output_type": "stream",
     "text": [
      "16.578\n",
      "13.31\n",
      "66.119\n",
      "114.582\n",
      "40.164\n"
     ]
    },
    {
     "data": {
      "text/plain": [
       "array([ 16.578,  13.31 ,  66.119, 114.582,  40.164])"
      ]
     },
     "execution_count": 6,
     "metadata": {},
     "output_type": "execute_result"
    }
   ],
   "source": [
    "# Variância dos dados de gravidade absoluta em (mGal)**2\n",
    "var_g_abs = 0.008\n",
    "\n",
    "# Variância dos dados de gravidade diferencial em (mGal)**2\n",
    "var_l = 0.030\n",
    "\n",
    "# dados de diferenças contaminados por ruído\n",
    "noise_l = rng.normal(loc=0., scale=np.sqrt(var_l), size=l_true.size)\n",
    "l = l_true + noise_l\n",
    "l = np.round(l, decimals=3)\n",
    "\n",
    "for li in l:\n",
    "    print(li)\n",
    "l"
   ]
  },
  {
   "cell_type": "code",
   "execution_count": 7,
   "id": "07a47823",
   "metadata": {},
   "outputs": [
    {
     "name": "stdout",
     "output_type": "stream",
     "text": [
      "978178.137\n",
      "978273.521\n"
     ]
    }
   ],
   "source": [
    "# dados absolutos contaminados por ruído\n",
    "noise_abs = rng.normal(loc=0., scale=np.sqrt(var_g_abs), size=g_abs_true.size)\n",
    "g_abs = g_abs_true + noise_abs\n",
    "g_abs = np.round(g_abs, decimals=3)\n",
    "    \n",
    "for gabsi in g_abs:\n",
    "    print(gabsi)"
   ]
  },
  {
   "cell_type": "code",
   "execution_count": 8,
   "id": "1e0bbb8a",
   "metadata": {},
   "outputs": [
    {
     "data": {
      "text/plain": [
       "array([0.03 , 0.03 , 0.03 , 0.03 , 0.03 , 0.008, 0.008])"
      ]
     },
     "execution_count": 8,
     "metadata": {},
     "output_type": "execute_result"
    }
   ],
   "source": [
    "#Create the w using the variances var_g_abs and var_l;\n",
    "w = np.zeros(7)\n",
    "for i in range(0, 7):\n",
    "    if i >=0 and i<5:\n",
    "        w[i] = var_l\n",
    "    else:\n",
    "        w[i] = var_g_abs\n",
    "\n",
    "w"
   ]
  },
  {
   "cell_type": "code",
   "execution_count": 9,
   "id": "ce8b5f82",
   "metadata": {},
   "outputs": [
    {
     "data": {
      "text/plain": [
       "array([1.65780000e+01, 1.33100000e+01, 6.61190000e+01, 1.14582000e+02,\n",
       "       4.01640000e+01, 9.78178137e+05, 9.78273521e+05])"
      ]
     },
     "execution_count": 9,
     "metadata": {},
     "output_type": "execute_result"
    }
   ],
   "source": [
    "i = [0, 1, 2, 3, 2]\n",
    "j = [1, 2, 5, 4, 3]\n",
    "\n",
    "d = np.hstack([l, g_abs]).T # vetor calculado para L, g absoluto (0 e 5)\n",
    "d"
   ]
  },
  {
   "cell_type": "code",
   "execution_count": 10,
   "id": "21812587",
   "metadata": {},
   "outputs": [
    {
     "data": {
      "text/plain": [
       "array([[-1.,  1.,  0.,  0.,  0.,  0.],\n",
       "       [ 0., -1.,  1.,  0.,  0.,  0.],\n",
       "       [ 0.,  0., -1.,  0.,  0.,  1.],\n",
       "       [ 0.,  0.,  0., -1.,  1.,  0.],\n",
       "       [ 0.,  0., -1.,  1.,  0.,  0.],\n",
       "       [ 0.,  0.,  0.,  0.,  0.,  0.],\n",
       "       [ 0.,  0.,  0.,  0.,  0.,  0.]])"
      ]
     },
     "execution_count": 10,
     "metadata": {},
     "output_type": "execute_result"
    }
   ],
   "source": [
    "# Criando matriz A de acordo com vetor l\n",
    "A = np.zeros((7, N))\n",
    "for k in range(5):\n",
    "    A[k, i[k]] = -1\n",
    "    A[k, j[k]] = 1\n",
    "A"
   ]
  },
  {
   "cell_type": "code",
   "execution_count": 11,
   "id": "1bbccc59",
   "metadata": {},
   "outputs": [
    {
     "name": "stderr",
     "output_type": "stream",
     "text": [
      "C:\\Users\\7michelson\\Documents\\MCOM scripts\\Exercícios - Construindo funções - ALgebra linear\\bruno.py:1462: RuntimeWarning: invalid value encountered in sqrt\n",
      "  std = np.sqrt(np.diag(covariance_matrix))\n"
     ]
    }
   ],
   "source": [
    "g_hat, sigma_g, std = bruno.minimos_quadrados_ponderado(A, d, w, check_input=True, inc = True)"
   ]
  },
  {
   "cell_type": "code",
   "execution_count": 12,
   "id": "d6440f8d",
   "metadata": {},
   "outputs": [
    {
     "data": {
      "text/plain": [
       "array([-192.,  -64.,  -64., -128.,    0.,  128.])"
      ]
     },
     "execution_count": 12,
     "metadata": {},
     "output_type": "execute_result"
    }
   ],
   "source": [
    "g_hat"
   ]
  },
  {
   "cell_type": "code",
   "execution_count": 13,
   "id": "117d47ee",
   "metadata": {},
   "outputs": [
    {
     "data": {
      "text/plain": [
       "array([128., 128., 128.,   0., 128.,   0.])"
      ]
     },
     "execution_count": 13,
     "metadata": {},
     "output_type": "execute_result"
    }
   ],
   "source": [
    "bruno.minimos_quadrados(A, d)"
   ]
  },
  {
   "cell_type": "code",
   "execution_count": 14,
   "id": "c339fe14",
   "metadata": {},
   "outputs": [
    {
     "data": {
      "text/plain": [
       "array([128.,   0., 192., 128., -64.,   0.,   0.])"
      ]
     },
     "execution_count": 14,
     "metadata": {},
     "output_type": "execute_result"
    }
   ],
   "source": [
    "A@g_hat"
   ]
  },
  {
   "cell_type": "code",
   "execution_count": 15,
   "id": "4afa3f31",
   "metadata": {},
   "outputs": [
    {
     "name": "stdout",
     "output_type": "stream",
     "text": [
      "[       0.        0.        0. -2097152. -2097152.        0.]\n",
      "[       0.        0.        0. -2097152. -2097152.        0.]\n",
      "[       0.        0.        0. -2097152. -2097152.        0.]\n",
      "[-2097152. -2097152. -2097152.        0. -2097152. -2097152.]\n",
      "[-2097152. -2097152. -2097152. -2097152. -1048576. -2097152.]\n",
      "[       0.        0.        0. -1048576. -1048576.  1048576.]\n"
     ]
    }
   ],
   "source": [
    "for s in range(0, len(sigma_g)):\n",
    "    print(sigma_g[s])"
   ]
  },
  {
   "cell_type": "code",
   "execution_count": 16,
   "id": "4010be69",
   "metadata": {},
   "outputs": [
    {
     "data": {
      "text/plain": [
       "array([   0.,    0.,    0.,    0.,   nan, 1024.])"
      ]
     },
     "execution_count": 16,
     "metadata": {},
     "output_type": "execute_result"
    }
   ],
   "source": [
    "std"
   ]
  },
  {
   "cell_type": "code",
   "execution_count": null,
   "id": "7e433ba2",
   "metadata": {},
   "outputs": [],
   "source": []
  },
  {
   "cell_type": "code",
   "execution_count": null,
   "id": "81bcb31c",
   "metadata": {},
   "outputs": [],
   "source": []
  }
 ],
 "metadata": {
  "kernelspec": {
   "display_name": "Python 3 (ipykernel)",
   "language": "python",
   "name": "python3"
  },
  "language_info": {
   "codemirror_mode": {
    "name": "ipython",
    "version": 3
   },
   "file_extension": ".py",
   "mimetype": "text/x-python",
   "name": "python",
   "nbconvert_exporter": "python",
   "pygments_lexer": "ipython3",
   "version": "3.11.7"
  }
 },
 "nbformat": 4,
 "nbformat_minor": 5
}
