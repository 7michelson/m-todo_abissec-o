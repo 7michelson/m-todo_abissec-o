{
 "cells": [
  {
   "cell_type": "code",
   "execution_count": 59,
   "id": "c884d284",
   "metadata": {},
   "outputs": [],
   "source": [
    "import bruno\n",
    "import numpy as np\n",
    "import matplotlib.pyplot as plt\n",
    "import seaborn as sb"
   ]
  },
  {
   "cell_type": "code",
   "execution_count": 60,
   "id": "18ff5f84",
   "metadata": {},
   "outputs": [],
   "source": [
    "### inicianlizando os vetores X, Y\n",
    "X = np.array([-1,0,1,2]).T\n",
    "Y = np.array([1,-1,0,2]).T"
   ]
  },
  {
   "cell_type": "code",
   "execution_count": 61,
   "id": "63ed0d64",
   "metadata": {},
   "outputs": [
    {
     "data": {
      "text/plain": [
       "<Axes: >"
      ]
     },
     "execution_count": 61,
     "metadata": {},
     "output_type": "execute_result"
    },
    {
     "data": {
      "image/png": "[encoded data removed]",
      "text/plain": [
       "<Figure size 640x480 with 1 Axes>"
      ]
     },
     "metadata": {},
     "output_type": "display_data"
    }
   ],
   "source": [
    "sb.scatterplot(x=X, y=Y)"
   ]
  },
  {
   "cell_type": "markdown",
   "id": "8f087181",
   "metadata": {},
   "source": [
    "### Calculando os minimos quadrados para um modelo de uma reta $y = \\alpha x + \\beta$"
   ]
  },
  {
   "cell_type": "code",
   "execution_count": 62,
   "id": "c599af09",
   "metadata": {},
   "outputs": [
    {
     "data": {
      "text/plain": [
       "array([[-1,  1],\n",
       "       [ 0,  1],\n",
       "       [ 1,  1],\n",
       "       [ 2,  1]])"
      ]
     },
     "execution_count": 62,
     "metadata": {},
     "output_type": "execute_result"
    }
   ],
   "source": [
    "A = bruno.straight_line_matrix(X) # desenha a matriz de sensitividade\n",
    "A"
   ]
  },
  {
   "cell_type": "code",
   "execution_count": 63,
   "id": "a60796a5",
   "metadata": {},
   "outputs": [],
   "source": [
    "p, incertezas = bruno.minimos_quadrados(A, Y, inc=True)"
   ]
  },
  {
   "cell_type": "code",
   "execution_count": 64,
   "id": "812acb7a",
   "metadata": {},
   "outputs": [],
   "source": [
    "x_mod = np.linspace(int(np.min(X))-1, int(np.max(X))+1, 100)"
   ]
  },
  {
   "cell_type": "code",
   "execution_count": 65,
   "id": "d8752ec4",
   "metadata": {},
   "outputs": [],
   "source": [
    "y_mod = p[0]*x_mod + p[1]"
   ]
  },
  {
   "cell_type": "code",
   "execution_count": 66,
   "id": "686e9069",
   "metadata": {},
   "outputs": [
    {
     "name": "stderr",
     "output_type": "stream",
     "text": [
      "C:\\ProgramData\\anaconda3\\Lib\\site-packages\\seaborn\\_oldcore.py:1119: FutureWarning: use_inf_as_na option is deprecated and will be removed in a future version. Convert inf values to NaN before operating instead.\n",
      "  with pd.option_context('mode.use_inf_as_na', True):\n",
      "C:\\ProgramData\\anaconda3\\Lib\\site-packages\\seaborn\\_oldcore.py:1119: FutureWarning: use_inf_as_na option is deprecated and will be removed in a future version. Convert inf values to NaN before operating instead.\n",
      "  with pd.option_context('mode.use_inf_as_na', True):\n"
     ]
    },
    {
     "data": {
      "text/plain": [
       "<Axes: >"
      ]
     },
     "execution_count": 66,
     "metadata": {},
     "output_type": "execute_result"
    },
    {
     "data": {
      "image/png": "[encoded data removed]",
      "text/plain": [
       "<Figure size 640x480 with 1 Axes>"
      ]
     },
     "metadata": {},
     "output_type": "display_data"
    }
   ],
   "source": [
    "sb.scatterplot(x=X, y=Y)\n",
    "sb.lineplot(x= x_mod, y =y_mod)"
   ]
  },
  {
   "cell_type": "code",
   "execution_count": 67,
   "id": "88fa709b",
   "metadata": {},
   "outputs": [
    {
     "data": {
      "text/plain": [
       "array([0.74535599, 0.91287093])"
      ]
     },
     "execution_count": 67,
     "metadata": {},
     "output_type": "execute_result"
    }
   ],
   "source": [
    "bruno.erro_padrao_e_intervalo(incertezas)[0]"
   ]
  },
  {
   "cell_type": "markdown",
   "id": "77690e02",
   "metadata": {},
   "source": [
    "#### Vamos tentar ajustar a uma parabola $\\vec{p} = [a, b, c]$ e o modelo é $ax^2 + bx +c$"
   ]
  },
  {
   "cell_type": "code",
   "execution_count": 68,
   "id": "a526a815",
   "metadata": {},
   "outputs": [],
   "source": [
    "X2 = X**2"
   ]
  },
  {
   "cell_type": "code",
   "execution_count": 69,
   "id": "c7bd47f1",
   "metadata": {},
   "outputs": [],
   "source": [
    "A2  = np.vstack([X2, A.T]).T"
   ]
  },
  {
   "cell_type": "code",
   "execution_count": 70,
   "id": "dc4f5f1b",
   "metadata": {},
   "outputs": [],
   "source": [
    "p2, inc2 = bruno.minimos_quadrados(A2, Y, inc=True)"
   ]
  },
  {
   "cell_type": "code",
   "execution_count": 71,
   "id": "99cc83d8",
   "metadata": {},
   "outputs": [],
   "source": [
    "y2  = p2[0]*x_mod**2 + p2[1]*x_mod + p2[2]"
   ]
  },
  {
   "cell_type": "code",
   "execution_count": 103,
   "id": "c61b80bd",
   "metadata": {},
   "outputs": [
    {
     "name": "stderr",
     "output_type": "stream",
     "text": [
      "C:\\ProgramData\\anaconda3\\Lib\\site-packages\\seaborn\\_oldcore.py:1119: FutureWarning: use_inf_as_na option is deprecated and will be removed in a future version. Convert inf values to NaN before operating instead.\n",
      "  with pd.option_context('mode.use_inf_as_na', True):\n",
      "C:\\ProgramData\\anaconda3\\Lib\\site-packages\\seaborn\\_oldcore.py:1119: FutureWarning: use_inf_as_na option is deprecated and will be removed in a future version. Convert inf values to NaN before operating instead.\n",
      "  with pd.option_context('mode.use_inf_as_na', True):\n",
      "C:\\ProgramData\\anaconda3\\Lib\\site-packages\\seaborn\\_oldcore.py:1119: FutureWarning: use_inf_as_na option is deprecated and will be removed in a future version. Convert inf values to NaN before operating instead.\n",
      "  with pd.option_context('mode.use_inf_as_na', True):\n",
      "C:\\ProgramData\\anaconda3\\Lib\\site-packages\\seaborn\\_oldcore.py:1119: FutureWarning: use_inf_as_na option is deprecated and will be removed in a future version. Convert inf values to NaN before operating instead.\n",
      "  with pd.option_context('mode.use_inf_as_na', True):\n"
     ]
    },
    {
     "data": {
      "text/plain": [
       "<Axes: >"
      ]
     },
     "execution_count": 103,
     "metadata": {},
     "output_type": "execute_result"
    },
    {
     "data": {
      "image/png": "[encoded data removed]",
      "text/plain": [
       "<Figure size 640x480 with 1 Axes>"
      ]
     },
     "metadata": {},
     "output_type": "display_data"
    }
   ],
   "source": [
    "sb.scatterplot(x=X, y=Y)\n",
    "sb.lineplot(x= x_mod, y =y2)\n",
    "sb.lineplot(x= x_mod, y =y_mod)"
   ]
  },
  {
   "cell_type": "code",
   "execution_count": 73,
   "id": "01258a93",
   "metadata": {},
   "outputs": [],
   "source": [
    "err2 = bruno.erro_padrao_e_intervalo(inc2)[0]\n",
    "err1 = bruno.erro_padrao_e_intervalo(incertezas)[0]"
   ]
  },
  {
   "cell_type": "code",
   "execution_count": 74,
   "id": "c7ccedd2",
   "metadata": {},
   "outputs": [
    {
     "data": {
      "text/plain": [
       "array([ 1. , -0.6, -0.7])"
      ]
     },
     "execution_count": 74,
     "metadata": {},
     "output_type": "execute_result"
    }
   ],
   "source": [
    "p2"
   ]
  },
  {
   "cell_type": "code",
   "execution_count": 75,
   "id": "61ff9d32",
   "metadata": {},
   "outputs": [
    {
     "data": {
      "text/plain": [
       "2.04939015319192"
      ]
     },
     "execution_count": 75,
     "metadata": {},
     "output_type": "execute_result"
    }
   ],
   "source": [
    "bruno.residuo(A, x_min=p, d = Y)[1] # residuo de p [a, b] modelo da reta"
   ]
  },
  {
   "cell_type": "code",
   "execution_count": 77,
   "id": "192f0c47",
   "metadata": {},
   "outputs": [
    {
     "data": {
      "text/plain": [
       "0.447213595499958"
      ]
     },
     "execution_count": 77,
     "metadata": {},
     "output_type": "execute_result"
    }
   ],
   "source": [
    "bruno.residuo(A2, x_min=p2, d = Y)[1] #residuo de p [a, b, c] para o modelo da parabola"
   ]
  },
  {
   "cell_type": "code",
   "execution_count": 80,
   "id": "a7515534",
   "metadata": {},
   "outputs": [
    {
     "data": {
      "text/plain": [
       "array([[-1.63333333,  1.63333333],\n",
       "       [-2.19134662,  2.19134662],\n",
       "       [-2.42262484,  2.42262484]])"
      ]
     },
     "execution_count": 80,
     "metadata": {},
     "output_type": "execute_result"
    }
   ],
   "source": [
    "intervalo_de_confianca_parabola = bruno.erro_padrao_e_intervalo(inc2)[1]\n",
    "intervalo_de_confianca_parabola"
   ]
  },
  {
   "cell_type": "code",
   "execution_count": 88,
   "id": "16c05ff1",
   "metadata": {},
   "outputs": [
    {
     "data": {
      "text/plain": [
       "array([0.83333333, 1.11803399, 1.23603308])"
      ]
     },
     "execution_count": 88,
     "metadata": {},
     "output_type": "execute_result"
    }
   ],
   "source": [
    "err2 #erro padrao da parabola"
   ]
  },
  {
   "cell_type": "markdown",
   "id": "5d05d51f",
   "metadata": {},
   "source": [
    "## Calculando o coeficiente de determinação da parábola"
   ]
  },
  {
   "cell_type": "code",
   "execution_count": 93,
   "id": "d2f28159",
   "metadata": {},
   "outputs": [],
   "source": [
    "y_pred = p2[0]*X**2 + p2[1]*X + p2[2]"
   ]
  },
  {
   "cell_type": "code",
   "execution_count": 96,
   "id": "26758f42",
   "metadata": {},
   "outputs": [
    {
     "data": {
      "text/plain": [
       "0.96"
      ]
     },
     "execution_count": 96,
     "metadata": {},
     "output_type": "execute_result"
    }
   ],
   "source": [
    "bruno.coeficiente_determinacao(Y, y_pred) # R2: 0,96 é um ótimo ajuste"
   ]
  },
  {
   "cell_type": "code",
   "execution_count": 100,
   "id": "a54ea57e",
   "metadata": {},
   "outputs": [
    {
     "data": {
      "text/plain": [
       "0.15999999999999992"
      ]
     },
     "execution_count": 100,
     "metadata": {},
     "output_type": "execute_result"
    }
   ],
   "source": [
    "# Podemos calcular o r2 da reta e ver quem mais se aproxima de 1\n",
    "y0_pred = p[0]*X + p[1]\n",
    "bruno.coeficiente_determinacao(Y, y0_pred) # R2: 0.16 é um péssimo ajuste"
   ]
  },
  {
   "cell_type": "markdown",
   "id": "4e879b40",
   "metadata": {},
   "source": [
    "## Resultando na parábola que melhor se ajusta com $R_2 = 0,96$"
   ]
  },
  {
   "cell_type": "code",
   "execution_count": null,
   "id": "4457d115",
   "metadata": {},
   "outputs": [],
   "source": []
  }
 ],
 "metadata": {
  "kernelspec": {
   "display_name": "Python 3 (ipykernel)",
   "language": "python",
   "name": "python3"
  },
  "language_info": {
   "codemirror_mode": {
    "name": "ipython",
    "version": 3
   },
   "file_extension": ".py",
   "mimetype": "text/x-python",
   "name": "python",
   "nbconvert_exporter": "python",
   "pygments_lexer": "ipython3",
   "version": "3.11.7"
  }
 },
 "nbformat": 4,
 "nbformat_minor": 5
}
